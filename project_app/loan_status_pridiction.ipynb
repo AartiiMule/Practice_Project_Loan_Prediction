{
 "cells": [
  {
   "cell_type": "raw",
   "id": "a1460526",
   "metadata": {},
   "source": [
    "Import Required Libraries"
   ]
  },
  {
   "cell_type": "code",
   "execution_count": 1,
   "id": "1ddc6519",
   "metadata": {},
   "outputs": [],
   "source": [
    "import pandas as pd\n",
    "import numpy as np\n",
    "import seaborn as sns\n",
    "\n",
    "import matplotlib.pyplot as plt \n",
    "import warnings\n",
    "warnings.filterwarnings(\"ignore\")\n",
    "\n",
    "from imblearn.over_sampling import SMOTE, RandomOverSampler\n",
    "from imblearn.under_sampling import RandomUnderSampler\n",
    "from sklearn.preprocessing import StandardScaler, MinMaxScaler\n",
    "from sklearn.metrics import accuracy_score,precision_score,recall_score,f1_score,confusion_matrix,plot_confusion_matrix,classification_report\n",
    "from sklearn.model_selection import train_test_split,RandomizedSearchCV,GridSearchCV\n",
    "\n",
    "from sklearn.linear_model import LogisticRegression\n",
    "from sklearn.neighbors import KNeighborsClassifier\n",
    "from sklearn.tree import DecisionTreeClassifier\n",
    "from sklearn.ensemble import RandomForestClassifier,AdaBoostClassifier\n",
    "from sklearn.svm import SVC\n",
    "\n"
   ]
  },
  {
   "cell_type": "markdown",
   "id": "6a417bdf",
   "metadata": {},
   "source": [
    "## Problem Statement"
   ]
  },
  {
   "cell_type": "markdown",
   "id": "57e079ee",
   "metadata": {},
   "source": [
    "Predict whether a loan is approved or not by using machine learning algorithm considering supervised problem."
   ]
  },
  {
   "cell_type": "markdown",
   "id": "4277039a",
   "metadata": {},
   "source": [
    "## Data Gathering"
   ]
  },
  {
   "cell_type": "code",
   "execution_count": 2,
   "id": "b8140e8a",
   "metadata": {
    "scrolled": false
   },
   "outputs": [
    {
     "data": {
      "text/html": [
       "<div>\n",
       "<style scoped>\n",
       "    .dataframe tbody tr th:only-of-type {\n",
       "        vertical-align: middle;\n",
       "    }\n",
       "\n",
       "    .dataframe tbody tr th {\n",
       "        vertical-align: top;\n",
       "    }\n",
       "\n",
       "    .dataframe thead th {\n",
       "        text-align: right;\n",
       "    }\n",
       "</style>\n",
       "<table border=\"1\" class=\"dataframe\">\n",
       "  <thead>\n",
       "    <tr style=\"text-align: right;\">\n",
       "      <th></th>\n",
       "      <th>Loan_ID</th>\n",
       "      <th>Gender</th>\n",
       "      <th>Married</th>\n",
       "      <th>Dependents</th>\n",
       "      <th>Education</th>\n",
       "      <th>Self_Employed</th>\n",
       "      <th>ApplicantIncome</th>\n",
       "      <th>CoapplicantIncome</th>\n",
       "      <th>LoanAmount</th>\n",
       "      <th>Loan_Amount_Term</th>\n",
       "      <th>Credit_History</th>\n",
       "      <th>Property_Area</th>\n",
       "      <th>Loan_Status</th>\n",
       "    </tr>\n",
       "  </thead>\n",
       "  <tbody>\n",
       "    <tr>\n",
       "      <th>0</th>\n",
       "      <td>LP001003</td>\n",
       "      <td>Male</td>\n",
       "      <td>Yes</td>\n",
       "      <td>1</td>\n",
       "      <td>Graduate</td>\n",
       "      <td>No</td>\n",
       "      <td>4583</td>\n",
       "      <td>1508.0</td>\n",
       "      <td>128.0</td>\n",
       "      <td>360.0</td>\n",
       "      <td>1.0</td>\n",
       "      <td>Rural</td>\n",
       "      <td>N</td>\n",
       "    </tr>\n",
       "    <tr>\n",
       "      <th>1</th>\n",
       "      <td>LP001005</td>\n",
       "      <td>Male</td>\n",
       "      <td>Yes</td>\n",
       "      <td>0</td>\n",
       "      <td>Graduate</td>\n",
       "      <td>Yes</td>\n",
       "      <td>3000</td>\n",
       "      <td>0.0</td>\n",
       "      <td>66.0</td>\n",
       "      <td>360.0</td>\n",
       "      <td>1.0</td>\n",
       "      <td>Urban</td>\n",
       "      <td>Y</td>\n",
       "    </tr>\n",
       "    <tr>\n",
       "      <th>2</th>\n",
       "      <td>LP001006</td>\n",
       "      <td>Male</td>\n",
       "      <td>Yes</td>\n",
       "      <td>0</td>\n",
       "      <td>Not Graduate</td>\n",
       "      <td>No</td>\n",
       "      <td>2583</td>\n",
       "      <td>2358.0</td>\n",
       "      <td>120.0</td>\n",
       "      <td>360.0</td>\n",
       "      <td>1.0</td>\n",
       "      <td>Urban</td>\n",
       "      <td>Y</td>\n",
       "    </tr>\n",
       "    <tr>\n",
       "      <th>3</th>\n",
       "      <td>LP001008</td>\n",
       "      <td>Male</td>\n",
       "      <td>No</td>\n",
       "      <td>0</td>\n",
       "      <td>Graduate</td>\n",
       "      <td>No</td>\n",
       "      <td>6000</td>\n",
       "      <td>0.0</td>\n",
       "      <td>141.0</td>\n",
       "      <td>360.0</td>\n",
       "      <td>1.0</td>\n",
       "      <td>Urban</td>\n",
       "      <td>Y</td>\n",
       "    </tr>\n",
       "    <tr>\n",
       "      <th>4</th>\n",
       "      <td>LP001013</td>\n",
       "      <td>Male</td>\n",
       "      <td>Yes</td>\n",
       "      <td>0</td>\n",
       "      <td>Not Graduate</td>\n",
       "      <td>No</td>\n",
       "      <td>2333</td>\n",
       "      <td>1516.0</td>\n",
       "      <td>95.0</td>\n",
       "      <td>360.0</td>\n",
       "      <td>1.0</td>\n",
       "      <td>Urban</td>\n",
       "      <td>Y</td>\n",
       "    </tr>\n",
       "    <tr>\n",
       "      <th>...</th>\n",
       "      <td>...</td>\n",
       "      <td>...</td>\n",
       "      <td>...</td>\n",
       "      <td>...</td>\n",
       "      <td>...</td>\n",
       "      <td>...</td>\n",
       "      <td>...</td>\n",
       "      <td>...</td>\n",
       "      <td>...</td>\n",
       "      <td>...</td>\n",
       "      <td>...</td>\n",
       "      <td>...</td>\n",
       "      <td>...</td>\n",
       "    </tr>\n",
       "    <tr>\n",
       "      <th>376</th>\n",
       "      <td>LP002953</td>\n",
       "      <td>Male</td>\n",
       "      <td>Yes</td>\n",
       "      <td>3+</td>\n",
       "      <td>Graduate</td>\n",
       "      <td>No</td>\n",
       "      <td>5703</td>\n",
       "      <td>0.0</td>\n",
       "      <td>128.0</td>\n",
       "      <td>360.0</td>\n",
       "      <td>1.0</td>\n",
       "      <td>Urban</td>\n",
       "      <td>Y</td>\n",
       "    </tr>\n",
       "    <tr>\n",
       "      <th>377</th>\n",
       "      <td>LP002974</td>\n",
       "      <td>Male</td>\n",
       "      <td>Yes</td>\n",
       "      <td>0</td>\n",
       "      <td>Graduate</td>\n",
       "      <td>No</td>\n",
       "      <td>3232</td>\n",
       "      <td>1950.0</td>\n",
       "      <td>108.0</td>\n",
       "      <td>360.0</td>\n",
       "      <td>1.0</td>\n",
       "      <td>Rural</td>\n",
       "      <td>Y</td>\n",
       "    </tr>\n",
       "    <tr>\n",
       "      <th>378</th>\n",
       "      <td>LP002978</td>\n",
       "      <td>Female</td>\n",
       "      <td>No</td>\n",
       "      <td>0</td>\n",
       "      <td>Graduate</td>\n",
       "      <td>No</td>\n",
       "      <td>2900</td>\n",
       "      <td>0.0</td>\n",
       "      <td>71.0</td>\n",
       "      <td>360.0</td>\n",
       "      <td>1.0</td>\n",
       "      <td>Rural</td>\n",
       "      <td>Y</td>\n",
       "    </tr>\n",
       "    <tr>\n",
       "      <th>379</th>\n",
       "      <td>LP002979</td>\n",
       "      <td>Male</td>\n",
       "      <td>Yes</td>\n",
       "      <td>3+</td>\n",
       "      <td>Graduate</td>\n",
       "      <td>No</td>\n",
       "      <td>4106</td>\n",
       "      <td>0.0</td>\n",
       "      <td>40.0</td>\n",
       "      <td>180.0</td>\n",
       "      <td>1.0</td>\n",
       "      <td>Rural</td>\n",
       "      <td>Y</td>\n",
       "    </tr>\n",
       "    <tr>\n",
       "      <th>380</th>\n",
       "      <td>LP002990</td>\n",
       "      <td>Female</td>\n",
       "      <td>No</td>\n",
       "      <td>0</td>\n",
       "      <td>Graduate</td>\n",
       "      <td>Yes</td>\n",
       "      <td>4583</td>\n",
       "      <td>0.0</td>\n",
       "      <td>133.0</td>\n",
       "      <td>360.0</td>\n",
       "      <td>0.0</td>\n",
       "      <td>Semiurban</td>\n",
       "      <td>N</td>\n",
       "    </tr>\n",
       "  </tbody>\n",
       "</table>\n",
       "<p>381 rows × 13 columns</p>\n",
       "</div>"
      ],
      "text/plain": [
       "      Loan_ID  Gender Married Dependents     Education Self_Employed  \\\n",
       "0    LP001003    Male     Yes          1      Graduate            No   \n",
       "1    LP001005    Male     Yes          0      Graduate           Yes   \n",
       "2    LP001006    Male     Yes          0  Not Graduate            No   \n",
       "3    LP001008    Male      No          0      Graduate            No   \n",
       "4    LP001013    Male     Yes          0  Not Graduate            No   \n",
       "..        ...     ...     ...        ...           ...           ...   \n",
       "376  LP002953    Male     Yes         3+      Graduate            No   \n",
       "377  LP002974    Male     Yes          0      Graduate            No   \n",
       "378  LP002978  Female      No          0      Graduate            No   \n",
       "379  LP002979    Male     Yes         3+      Graduate            No   \n",
       "380  LP002990  Female      No          0      Graduate           Yes   \n",
       "\n",
       "     ApplicantIncome  CoapplicantIncome  LoanAmount  Loan_Amount_Term  \\\n",
       "0               4583             1508.0       128.0             360.0   \n",
       "1               3000                0.0        66.0             360.0   \n",
       "2               2583             2358.0       120.0             360.0   \n",
       "3               6000                0.0       141.0             360.0   \n",
       "4               2333             1516.0        95.0             360.0   \n",
       "..               ...                ...         ...               ...   \n",
       "376             5703                0.0       128.0             360.0   \n",
       "377             3232             1950.0       108.0             360.0   \n",
       "378             2900                0.0        71.0             360.0   \n",
       "379             4106                0.0        40.0             180.0   \n",
       "380             4583                0.0       133.0             360.0   \n",
       "\n",
       "     Credit_History Property_Area Loan_Status  \n",
       "0               1.0         Rural           N  \n",
       "1               1.0         Urban           Y  \n",
       "2               1.0         Urban           Y  \n",
       "3               1.0         Urban           Y  \n",
       "4               1.0         Urban           Y  \n",
       "..              ...           ...         ...  \n",
       "376             1.0         Urban           Y  \n",
       "377             1.0         Rural           Y  \n",
       "378             1.0         Rural           Y  \n",
       "379             1.0         Rural           Y  \n",
       "380             0.0     Semiurban           N  \n",
       "\n",
       "[381 rows x 13 columns]"
      ]
     },
     "execution_count": 2,
     "metadata": {},
     "output_type": "execute_result"
    }
   ],
   "source": [
    "df = pd.read_csv(\"loan_data.csv\")\n",
    "df"
   ]
  },
  {
   "cell_type": "markdown",
   "id": "db9625a0",
   "metadata": {},
   "source": [
    "## Exporatory Data Analysis"
   ]
  },
  {
   "cell_type": "code",
   "execution_count": 3,
   "id": "c10b45dd",
   "metadata": {},
   "outputs": [
    {
     "data": {
      "text/plain": [
       "(381, 13)"
      ]
     },
     "execution_count": 3,
     "metadata": {},
     "output_type": "execute_result"
    }
   ],
   "source": [
    "df.shape        "
   ]
  },
  {
   "cell_type": "code",
   "execution_count": 4,
   "id": "3b3853aa",
   "metadata": {},
   "outputs": [
    {
     "name": "stdout",
     "output_type": "stream",
     "text": [
      "<class 'pandas.core.frame.DataFrame'>\n",
      "RangeIndex: 381 entries, 0 to 380\n",
      "Data columns (total 13 columns):\n",
      " #   Column             Non-Null Count  Dtype  \n",
      "---  ------             --------------  -----  \n",
      " 0   Loan_ID            381 non-null    object \n",
      " 1   Gender             376 non-null    object \n",
      " 2   Married            381 non-null    object \n",
      " 3   Dependents         373 non-null    object \n",
      " 4   Education          381 non-null    object \n",
      " 5   Self_Employed      360 non-null    object \n",
      " 6   ApplicantIncome    381 non-null    int64  \n",
      " 7   CoapplicantIncome  381 non-null    float64\n",
      " 8   LoanAmount         381 non-null    float64\n",
      " 9   Loan_Amount_Term   370 non-null    float64\n",
      " 10  Credit_History     351 non-null    float64\n",
      " 11  Property_Area      381 non-null    object \n",
      " 12  Loan_Status        381 non-null    object \n",
      "dtypes: float64(4), int64(1), object(8)\n",
      "memory usage: 38.8+ KB\n"
     ]
    }
   ],
   "source": [
    "df.info()"
   ]
  },
  {
   "cell_type": "code",
   "execution_count": 5,
   "id": "00aed62c",
   "metadata": {},
   "outputs": [
    {
     "data": {
      "text/html": [
       "<div>\n",
       "<style scoped>\n",
       "    .dataframe tbody tr th:only-of-type {\n",
       "        vertical-align: middle;\n",
       "    }\n",
       "\n",
       "    .dataframe tbody tr th {\n",
       "        vertical-align: top;\n",
       "    }\n",
       "\n",
       "    .dataframe thead th {\n",
       "        text-align: right;\n",
       "    }\n",
       "</style>\n",
       "<table border=\"1\" class=\"dataframe\">\n",
       "  <thead>\n",
       "    <tr style=\"text-align: right;\">\n",
       "      <th></th>\n",
       "      <th>ApplicantIncome</th>\n",
       "      <th>CoapplicantIncome</th>\n",
       "      <th>LoanAmount</th>\n",
       "      <th>Loan_Amount_Term</th>\n",
       "      <th>Credit_History</th>\n",
       "    </tr>\n",
       "  </thead>\n",
       "  <tbody>\n",
       "    <tr>\n",
       "      <th>count</th>\n",
       "      <td>381.000000</td>\n",
       "      <td>381.000000</td>\n",
       "      <td>381.000000</td>\n",
       "      <td>370.000000</td>\n",
       "      <td>351.000000</td>\n",
       "    </tr>\n",
       "    <tr>\n",
       "      <th>mean</th>\n",
       "      <td>3579.845144</td>\n",
       "      <td>1277.275381</td>\n",
       "      <td>104.986877</td>\n",
       "      <td>340.864865</td>\n",
       "      <td>0.837607</td>\n",
       "    </tr>\n",
       "    <tr>\n",
       "      <th>std</th>\n",
       "      <td>1419.813818</td>\n",
       "      <td>2340.818114</td>\n",
       "      <td>28.358464</td>\n",
       "      <td>68.549257</td>\n",
       "      <td>0.369338</td>\n",
       "    </tr>\n",
       "    <tr>\n",
       "      <th>min</th>\n",
       "      <td>150.000000</td>\n",
       "      <td>0.000000</td>\n",
       "      <td>9.000000</td>\n",
       "      <td>12.000000</td>\n",
       "      <td>0.000000</td>\n",
       "    </tr>\n",
       "    <tr>\n",
       "      <th>25%</th>\n",
       "      <td>2600.000000</td>\n",
       "      <td>0.000000</td>\n",
       "      <td>90.000000</td>\n",
       "      <td>360.000000</td>\n",
       "      <td>1.000000</td>\n",
       "    </tr>\n",
       "    <tr>\n",
       "      <th>50%</th>\n",
       "      <td>3333.000000</td>\n",
       "      <td>983.000000</td>\n",
       "      <td>110.000000</td>\n",
       "      <td>360.000000</td>\n",
       "      <td>1.000000</td>\n",
       "    </tr>\n",
       "    <tr>\n",
       "      <th>75%</th>\n",
       "      <td>4288.000000</td>\n",
       "      <td>2016.000000</td>\n",
       "      <td>127.000000</td>\n",
       "      <td>360.000000</td>\n",
       "      <td>1.000000</td>\n",
       "    </tr>\n",
       "    <tr>\n",
       "      <th>max</th>\n",
       "      <td>9703.000000</td>\n",
       "      <td>33837.000000</td>\n",
       "      <td>150.000000</td>\n",
       "      <td>480.000000</td>\n",
       "      <td>1.000000</td>\n",
       "    </tr>\n",
       "  </tbody>\n",
       "</table>\n",
       "</div>"
      ],
      "text/plain": [
       "       ApplicantIncome  CoapplicantIncome  LoanAmount  Loan_Amount_Term  \\\n",
       "count       381.000000         381.000000  381.000000        370.000000   \n",
       "mean       3579.845144        1277.275381  104.986877        340.864865   \n",
       "std        1419.813818        2340.818114   28.358464         68.549257   \n",
       "min         150.000000           0.000000    9.000000         12.000000   \n",
       "25%        2600.000000           0.000000   90.000000        360.000000   \n",
       "50%        3333.000000         983.000000  110.000000        360.000000   \n",
       "75%        4288.000000        2016.000000  127.000000        360.000000   \n",
       "max        9703.000000       33837.000000  150.000000        480.000000   \n",
       "\n",
       "       Credit_History  \n",
       "count      351.000000  \n",
       "mean         0.837607  \n",
       "std          0.369338  \n",
       "min          0.000000  \n",
       "25%          1.000000  \n",
       "50%          1.000000  \n",
       "75%          1.000000  \n",
       "max          1.000000  "
      ]
     },
     "execution_count": 5,
     "metadata": {},
     "output_type": "execute_result"
    }
   ],
   "source": [
    "df.describe()               # check statistical analysis"
   ]
  },
  {
   "cell_type": "code",
   "execution_count": 6,
   "id": "60b8a556",
   "metadata": {},
   "outputs": [
    {
     "data": {
      "text/plain": [
       "Male      291\n",
       "Female     85\n",
       "Name: Gender, dtype: int64"
      ]
     },
     "execution_count": 6,
     "metadata": {},
     "output_type": "execute_result"
    }
   ],
   "source": [
    "df[\"Gender\"].value_counts()"
   ]
  },
  {
   "cell_type": "code",
   "execution_count": 7,
   "id": "f772857d",
   "metadata": {},
   "outputs": [
    {
     "data": {
      "text/plain": [
       "Yes    228\n",
       "No     153\n",
       "Name: Married, dtype: int64"
      ]
     },
     "execution_count": 7,
     "metadata": {},
     "output_type": "execute_result"
    }
   ],
   "source": [
    "df[\"Married\"].value_counts()"
   ]
  },
  {
   "cell_type": "code",
   "execution_count": 8,
   "id": "48df8f72",
   "metadata": {},
   "outputs": [
    {
     "data": {
      "text/plain": [
       "0     234\n",
       "2      59\n",
       "1      52\n",
       "3+     28\n",
       "Name: Dependents, dtype: int64"
      ]
     },
     "execution_count": 8,
     "metadata": {},
     "output_type": "execute_result"
    }
   ],
   "source": [
    "df[\"Dependents\"].value_counts()"
   ]
  },
  {
   "cell_type": "code",
   "execution_count": 9,
   "id": "4a137a63",
   "metadata": {},
   "outputs": [
    {
     "data": {
      "text/plain": [
       "Graduate        278\n",
       "Not Graduate    103\n",
       "Name: Education, dtype: int64"
      ]
     },
     "execution_count": 9,
     "metadata": {},
     "output_type": "execute_result"
    }
   ],
   "source": [
    "df[\"Education\"].value_counts()"
   ]
  },
  {
   "cell_type": "code",
   "execution_count": 10,
   "id": "328b71a9",
   "metadata": {},
   "outputs": [
    {
     "data": {
      "text/plain": [
       "No     325\n",
       "Yes     35\n",
       "Name: Self_Employed, dtype: int64"
      ]
     },
     "execution_count": 10,
     "metadata": {},
     "output_type": "execute_result"
    }
   ],
   "source": [
    "df[\"Self_Employed\"].value_counts()"
   ]
  },
  {
   "cell_type": "code",
   "execution_count": 11,
   "id": "2f73b56c",
   "metadata": {},
   "outputs": [
    {
     "data": {
      "text/plain": [
       "2500    8\n",
       "2600    5\n",
       "4583    4\n",
       "2583    4\n",
       "3750    4\n",
       "       ..\n",
       "150     1\n",
       "3850    1\n",
       "3430    1\n",
       "2479    1\n",
       "4106    1\n",
       "Name: ApplicantIncome, Length: 322, dtype: int64"
      ]
     },
     "execution_count": 11,
     "metadata": {},
     "output_type": "execute_result"
    }
   ],
   "source": [
    "df[\"ApplicantIncome\"].value_counts()"
   ]
  },
  {
   "cell_type": "code",
   "execution_count": 12,
   "id": "4ff89bfe",
   "metadata": {},
   "outputs": [
    {
     "data": {
      "text/plain": [
       "0.0       175\n",
       "1666.0      4\n",
       "2500.0      4\n",
       "1459.0      3\n",
       "1800.0      3\n",
       "         ... \n",
       "1083.0      1\n",
       "3021.0      1\n",
       "983.0       1\n",
       "1775.0      1\n",
       "1950.0      1\n",
       "Name: CoapplicantIncome, Length: 182, dtype: int64"
      ]
     },
     "execution_count": 12,
     "metadata": {},
     "output_type": "execute_result"
    }
   ],
   "source": [
    "df[\"CoapplicantIncome\"].value_counts()"
   ]
  },
  {
   "cell_type": "code",
   "execution_count": 13,
   "id": "a3be9686",
   "metadata": {
    "scrolled": true
   },
   "outputs": [
    {
     "data": {
      "text/plain": [
       "120.0    19\n",
       "110.0    16\n",
       "100.0    15\n",
       "128.0    11\n",
       "113.0    11\n",
       "         ..\n",
       "59.0      1\n",
       "63.0      1\n",
       "101.0     1\n",
       "48.0      1\n",
       "40.0      1\n",
       "Name: LoanAmount, Length: 101, dtype: int64"
      ]
     },
     "execution_count": 13,
     "metadata": {},
     "output_type": "execute_result"
    }
   ],
   "source": [
    "df[\"LoanAmount\"].value_counts()"
   ]
  },
  {
   "cell_type": "code",
   "execution_count": 14,
   "id": "0012c634",
   "metadata": {},
   "outputs": [
    {
     "data": {
      "text/plain": [
       "360.0    312\n",
       "180.0     29\n",
       "480.0     11\n",
       "300.0      7\n",
       "120.0      3\n",
       "84.0       3\n",
       "240.0      2\n",
       "60.0       1\n",
       "12.0       1\n",
       "36.0       1\n",
       "Name: Loan_Amount_Term, dtype: int64"
      ]
     },
     "execution_count": 14,
     "metadata": {},
     "output_type": "execute_result"
    }
   ],
   "source": [
    "df[\"Loan_Amount_Term\"].value_counts()"
   ]
  },
  {
   "cell_type": "code",
   "execution_count": 15,
   "id": "2c060d36",
   "metadata": {},
   "outputs": [
    {
     "data": {
      "text/plain": [
       "1.0    294\n",
       "0.0     57\n",
       "Name: Credit_History, dtype: int64"
      ]
     },
     "execution_count": 15,
     "metadata": {},
     "output_type": "execute_result"
    }
   ],
   "source": [
    "df[\"Credit_History\"].value_counts()"
   ]
  },
  {
   "cell_type": "code",
   "execution_count": 16,
   "id": "12d9a77c",
   "metadata": {},
   "outputs": [
    {
     "data": {
      "text/plain": [
       "Semiurban    149\n",
       "Urban        126\n",
       "Rural        106\n",
       "Name: Property_Area, dtype: int64"
      ]
     },
     "execution_count": 16,
     "metadata": {},
     "output_type": "execute_result"
    }
   ],
   "source": [
    "df[\"Property_Area\"].value_counts()"
   ]
  },
  {
   "cell_type": "code",
   "execution_count": 17,
   "id": "17063add",
   "metadata": {},
   "outputs": [],
   "source": [
    "# checking balanced or imbalanced data"
   ]
  },
  {
   "cell_type": "code",
   "execution_count": 18,
   "id": "ed448ba7",
   "metadata": {},
   "outputs": [
    {
     "data": {
      "text/plain": [
       "Y    271\n",
       "N    110\n",
       "Name: Loan_Status, dtype: int64"
      ]
     },
     "execution_count": 18,
     "metadata": {},
     "output_type": "execute_result"
    }
   ],
   "source": [
    "df[\"Loan_Status\"].value_counts()     # we need to balance our data "
   ]
  },
  {
   "cell_type": "markdown",
   "id": "b84d5513",
   "metadata": {},
   "source": [
    "### Detect missing values"
   ]
  },
  {
   "cell_type": "code",
   "execution_count": 19,
   "id": "e36d1983",
   "metadata": {},
   "outputs": [
    {
     "data": {
      "text/plain": [
       "Loan_ID               0\n",
       "Gender                5\n",
       "Married               0\n",
       "Dependents            8\n",
       "Education             0\n",
       "Self_Employed        21\n",
       "ApplicantIncome       0\n",
       "CoapplicantIncome     0\n",
       "LoanAmount            0\n",
       "Loan_Amount_Term     11\n",
       "Credit_History       30\n",
       "Property_Area         0\n",
       "Loan_Status           0\n",
       "dtype: int64"
      ]
     },
     "execution_count": 19,
     "metadata": {},
     "output_type": "execute_result"
    }
   ],
   "source": [
    "df.isna().sum()"
   ]
  },
  {
   "cell_type": "markdown",
   "id": "152c4198",
   "metadata": {},
   "source": [
    "### Detect Outliers"
   ]
  },
  {
   "cell_type": "code",
   "execution_count": 20,
   "id": "6b55a281",
   "metadata": {},
   "outputs": [
    {
     "data": {
      "text/plain": [
       "<AxesSubplot:>"
      ]
     },
     "execution_count": 20,
     "metadata": {},
     "output_type": "execute_result"
    },
    {
     "data": {
      "image/png": "[encoded data removed]",
      "text/plain": [
       "<Figure size 3000x3000 with 1 Axes>"
      ]
     },
     "metadata": {},
     "output_type": "display_data"
    }
   ],
   "source": [
    "plt.figure(figsize = (30,30))       \n",
    "df.boxplot()"
   ]
  },
  {
   "cell_type": "markdown",
   "id": "1abcada8",
   "metadata": {},
   "source": [
    "## Feture Engineering"
   ]
  },
  {
   "cell_type": "code",
   "execution_count": 21,
   "id": "82f7a4ba",
   "metadata": {},
   "outputs": [],
   "source": [
    "# drop id column"
   ]
  },
  {
   "cell_type": "code",
   "execution_count": 22,
   "id": "75554bc5",
   "metadata": {},
   "outputs": [],
   "source": [
    "df.drop(\"Loan_ID\",axis = 1,inplace = True)"
   ]
  },
  {
   "cell_type": "markdown",
   "id": "75800c5d",
   "metadata": {},
   "source": [
    "### Imput Missing values"
   ]
  },
  {
   "cell_type": "code",
   "execution_count": 23,
   "id": "960a377b",
   "metadata": {},
   "outputs": [],
   "source": [
    "df[\"Gender\"] = df[\"Gender\"].fillna(df[\"Gender\"].mode()[0])\n",
    "df[\"Dependents\"] = df[\"Dependents\"].fillna(df[\"Dependents\"].mode()[0])\n",
    "df[\"Self_Employed\"] = df[\"Self_Employed\"].fillna(df[\"Self_Employed\"].mode()[0])\n",
    "df[\"Loan_Amount_Term\"] = df[\"Loan_Amount_Term\"].fillna(df[\"Loan_Amount_Term\"].mode()[0])\n",
    "df[\"Credit_History\"] = df[\"Credit_History\"].fillna(df[\"Credit_History\"].mode()[0])"
   ]
  },
  {
   "cell_type": "code",
   "execution_count": 24,
   "id": "fed8065c",
   "metadata": {},
   "outputs": [],
   "source": [
    "# after imputing missing values"
   ]
  },
  {
   "cell_type": "code",
   "execution_count": 25,
   "id": "6ead51fd",
   "metadata": {},
   "outputs": [
    {
     "data": {
      "text/plain": [
       "Gender               0\n",
       "Married              0\n",
       "Dependents           0\n",
       "Education            0\n",
       "Self_Employed        0\n",
       "ApplicantIncome      0\n",
       "CoapplicantIncome    0\n",
       "LoanAmount           0\n",
       "Loan_Amount_Term     0\n",
       "Credit_History       0\n",
       "Property_Area        0\n",
       "Loan_Status          0\n",
       "dtype: int64"
      ]
     },
     "execution_count": 25,
     "metadata": {},
     "output_type": "execute_result"
    }
   ],
   "source": [
    "df.isna().sum()"
   ]
  },
  {
   "cell_type": "markdown",
   "id": "0c999537",
   "metadata": {},
   "source": [
    "### Encoding"
   ]
  },
  {
   "cell_type": "code",
   "execution_count": 26,
   "id": "c20348fa",
   "metadata": {},
   "outputs": [],
   "source": [
    "df[\"Gender\"].replace({\"Male\":0,\"Female\":1},inplace = True)\n",
    "df[\"Married\"].replace({\"Yes\":1,\"No\":0},inplace = True)\n",
    "df[\"Education\"].replace({\"Graduate\":1,\"Not Graduate\":0},inplace = True)\n",
    "df[\"Self_Employed\"].replace({\"Yes\":1,\"No\":0},inplace = True)\n",
    "df[\"Property_Area\"].replace({\"Semiurban\":0,\"Urban\":1,\"Rural\":2},inplace = True)\n",
    "df[\"Loan_Status\"].replace({\"Y\":1,\"N\":0},inplace = True)\n",
    "df = pd.get_dummies(df, columns = [\"Dependents\"])"
   ]
  },
  {
   "cell_type": "code",
   "execution_count": 27,
   "id": "e15559d3",
   "metadata": {},
   "outputs": [
    {
     "data": {
      "text/plain": [
       "{'Male': 0, 'Female': 1}"
      ]
     },
     "execution_count": 27,
     "metadata": {},
     "output_type": "execute_result"
    }
   ],
   "source": [
    "Gender = ({\"Male\":0,\"Female\":1})\n",
    "Gender"
   ]
  },
  {
   "cell_type": "code",
   "execution_count": 28,
   "id": "69f6d307",
   "metadata": {},
   "outputs": [],
   "source": [
    "Married = ({\"Yes\":0,\"No\":1})\n",
    "Education = ({\"Graduate\":0,\"Not Graduate\":1})\n",
    "Self_Employed = ({\"Yes\":0,\"No\":1})\n",
    "Property_Area = ({\"Semiurban\":0,\"Urban\":1,\"Rural\":2})\n",
    "Loan_Status = ({\"Y\":0,\"N\":1})"
   ]
  },
  {
   "cell_type": "markdown",
   "id": "9ff896ab",
   "metadata": {},
   "source": [
    "### Sampling"
   ]
  },
  {
   "cell_type": "code",
   "execution_count": 29,
   "id": "768313de",
   "metadata": {},
   "outputs": [
    {
     "data": {
      "text/plain": [
       "1    271\n",
       "0    216\n",
       "Name: Loan_Status, dtype: int64"
      ]
     },
     "execution_count": 29,
     "metadata": {},
     "output_type": "execute_result"
    }
   ],
   "source": [
    "x = df.drop(\"Loan_Status\",axis = 1)\n",
    "y = df[\"Loan_Status\"]\n",
    "random_over = RandomOverSampler(sampling_strategy = 0.8)\n",
    "\n",
    "x_sample, y_sample = random_over.fit_resample(x,y)\n",
    "y_sample.value_counts()"
   ]
  },
  {
   "cell_type": "code",
   "execution_count": 30,
   "id": "7fc8a540",
   "metadata": {},
   "outputs": [
    {
     "data": {
      "text/html": [
       "<div>\n",
       "<style scoped>\n",
       "    .dataframe tbody tr th:only-of-type {\n",
       "        vertical-align: middle;\n",
       "    }\n",
       "\n",
       "    .dataframe tbody tr th {\n",
       "        vertical-align: top;\n",
       "    }\n",
       "\n",
       "    .dataframe thead th {\n",
       "        text-align: right;\n",
       "    }\n",
       "</style>\n",
       "<table border=\"1\" class=\"dataframe\">\n",
       "  <thead>\n",
       "    <tr style=\"text-align: right;\">\n",
       "      <th></th>\n",
       "      <th>Gender</th>\n",
       "      <th>Married</th>\n",
       "      <th>Education</th>\n",
       "      <th>Self_Employed</th>\n",
       "      <th>ApplicantIncome</th>\n",
       "      <th>CoapplicantIncome</th>\n",
       "      <th>LoanAmount</th>\n",
       "      <th>Loan_Amount_Term</th>\n",
       "      <th>Credit_History</th>\n",
       "      <th>Property_Area</th>\n",
       "      <th>Dependents_0</th>\n",
       "      <th>Dependents_1</th>\n",
       "      <th>Dependents_2</th>\n",
       "      <th>Dependents_3+</th>\n",
       "    </tr>\n",
       "  </thead>\n",
       "  <tbody>\n",
       "    <tr>\n",
       "      <th>0</th>\n",
       "      <td>0</td>\n",
       "      <td>1</td>\n",
       "      <td>1</td>\n",
       "      <td>0</td>\n",
       "      <td>4583</td>\n",
       "      <td>1508.0</td>\n",
       "      <td>128.0</td>\n",
       "      <td>360.0</td>\n",
       "      <td>1.0</td>\n",
       "      <td>2</td>\n",
       "      <td>0</td>\n",
       "      <td>1</td>\n",
       "      <td>0</td>\n",
       "      <td>0</td>\n",
       "    </tr>\n",
       "    <tr>\n",
       "      <th>1</th>\n",
       "      <td>0</td>\n",
       "      <td>1</td>\n",
       "      <td>1</td>\n",
       "      <td>1</td>\n",
       "      <td>3000</td>\n",
       "      <td>0.0</td>\n",
       "      <td>66.0</td>\n",
       "      <td>360.0</td>\n",
       "      <td>1.0</td>\n",
       "      <td>1</td>\n",
       "      <td>1</td>\n",
       "      <td>0</td>\n",
       "      <td>0</td>\n",
       "      <td>0</td>\n",
       "    </tr>\n",
       "    <tr>\n",
       "      <th>2</th>\n",
       "      <td>0</td>\n",
       "      <td>1</td>\n",
       "      <td>0</td>\n",
       "      <td>0</td>\n",
       "      <td>2583</td>\n",
       "      <td>2358.0</td>\n",
       "      <td>120.0</td>\n",
       "      <td>360.0</td>\n",
       "      <td>1.0</td>\n",
       "      <td>1</td>\n",
       "      <td>1</td>\n",
       "      <td>0</td>\n",
       "      <td>0</td>\n",
       "      <td>0</td>\n",
       "    </tr>\n",
       "    <tr>\n",
       "      <th>3</th>\n",
       "      <td>0</td>\n",
       "      <td>0</td>\n",
       "      <td>1</td>\n",
       "      <td>0</td>\n",
       "      <td>6000</td>\n",
       "      <td>0.0</td>\n",
       "      <td>141.0</td>\n",
       "      <td>360.0</td>\n",
       "      <td>1.0</td>\n",
       "      <td>1</td>\n",
       "      <td>1</td>\n",
       "      <td>0</td>\n",
       "      <td>0</td>\n",
       "      <td>0</td>\n",
       "    </tr>\n",
       "    <tr>\n",
       "      <th>4</th>\n",
       "      <td>0</td>\n",
       "      <td>1</td>\n",
       "      <td>0</td>\n",
       "      <td>0</td>\n",
       "      <td>2333</td>\n",
       "      <td>1516.0</td>\n",
       "      <td>95.0</td>\n",
       "      <td>360.0</td>\n",
       "      <td>1.0</td>\n",
       "      <td>1</td>\n",
       "      <td>1</td>\n",
       "      <td>0</td>\n",
       "      <td>0</td>\n",
       "      <td>0</td>\n",
       "    </tr>\n",
       "    <tr>\n",
       "      <th>...</th>\n",
       "      <td>...</td>\n",
       "      <td>...</td>\n",
       "      <td>...</td>\n",
       "      <td>...</td>\n",
       "      <td>...</td>\n",
       "      <td>...</td>\n",
       "      <td>...</td>\n",
       "      <td>...</td>\n",
       "      <td>...</td>\n",
       "      <td>...</td>\n",
       "      <td>...</td>\n",
       "      <td>...</td>\n",
       "      <td>...</td>\n",
       "      <td>...</td>\n",
       "    </tr>\n",
       "    <tr>\n",
       "      <th>482</th>\n",
       "      <td>0</td>\n",
       "      <td>1</td>\n",
       "      <td>1</td>\n",
       "      <td>0</td>\n",
       "      <td>4566</td>\n",
       "      <td>0.0</td>\n",
       "      <td>100.0</td>\n",
       "      <td>360.0</td>\n",
       "      <td>1.0</td>\n",
       "      <td>1</td>\n",
       "      <td>0</td>\n",
       "      <td>0</td>\n",
       "      <td>1</td>\n",
       "      <td>0</td>\n",
       "    </tr>\n",
       "    <tr>\n",
       "      <th>483</th>\n",
       "      <td>0</td>\n",
       "      <td>0</td>\n",
       "      <td>1</td>\n",
       "      <td>0</td>\n",
       "      <td>3418</td>\n",
       "      <td>0.0</td>\n",
       "      <td>127.0</td>\n",
       "      <td>360.0</td>\n",
       "      <td>1.0</td>\n",
       "      <td>0</td>\n",
       "      <td>1</td>\n",
       "      <td>0</td>\n",
       "      <td>0</td>\n",
       "      <td>0</td>\n",
       "    </tr>\n",
       "    <tr>\n",
       "      <th>484</th>\n",
       "      <td>0</td>\n",
       "      <td>0</td>\n",
       "      <td>0</td>\n",
       "      <td>0</td>\n",
       "      <td>3358</td>\n",
       "      <td>0.0</td>\n",
       "      <td>80.0</td>\n",
       "      <td>36.0</td>\n",
       "      <td>1.0</td>\n",
       "      <td>0</td>\n",
       "      <td>1</td>\n",
       "      <td>0</td>\n",
       "      <td>0</td>\n",
       "      <td>0</td>\n",
       "    </tr>\n",
       "    <tr>\n",
       "      <th>485</th>\n",
       "      <td>0</td>\n",
       "      <td>1</td>\n",
       "      <td>0</td>\n",
       "      <td>0</td>\n",
       "      <td>4050</td>\n",
       "      <td>5302.0</td>\n",
       "      <td>138.0</td>\n",
       "      <td>360.0</td>\n",
       "      <td>1.0</td>\n",
       "      <td>2</td>\n",
       "      <td>0</td>\n",
       "      <td>1</td>\n",
       "      <td>0</td>\n",
       "      <td>0</td>\n",
       "    </tr>\n",
       "    <tr>\n",
       "      <th>486</th>\n",
       "      <td>0</td>\n",
       "      <td>1</td>\n",
       "      <td>1</td>\n",
       "      <td>0</td>\n",
       "      <td>2873</td>\n",
       "      <td>1872.0</td>\n",
       "      <td>132.0</td>\n",
       "      <td>360.0</td>\n",
       "      <td>0.0</td>\n",
       "      <td>0</td>\n",
       "      <td>0</td>\n",
       "      <td>0</td>\n",
       "      <td>1</td>\n",
       "      <td>0</td>\n",
       "    </tr>\n",
       "  </tbody>\n",
       "</table>\n",
       "<p>487 rows × 14 columns</p>\n",
       "</div>"
      ],
      "text/plain": [
       "     Gender  Married  Education  Self_Employed  ApplicantIncome  \\\n",
       "0         0        1          1              0             4583   \n",
       "1         0        1          1              1             3000   \n",
       "2         0        1          0              0             2583   \n",
       "3         0        0          1              0             6000   \n",
       "4         0        1          0              0             2333   \n",
       "..      ...      ...        ...            ...              ...   \n",
       "482       0        1          1              0             4566   \n",
       "483       0        0          1              0             3418   \n",
       "484       0        0          0              0             3358   \n",
       "485       0        1          0              0             4050   \n",
       "486       0        1          1              0             2873   \n",
       "\n",
       "     CoapplicantIncome  LoanAmount  Loan_Amount_Term  Credit_History  \\\n",
       "0               1508.0       128.0             360.0             1.0   \n",
       "1                  0.0        66.0             360.0             1.0   \n",
       "2               2358.0       120.0             360.0             1.0   \n",
       "3                  0.0       141.0             360.0             1.0   \n",
       "4               1516.0        95.0             360.0             1.0   \n",
       "..                 ...         ...               ...             ...   \n",
       "482                0.0       100.0             360.0             1.0   \n",
       "483                0.0       127.0             360.0             1.0   \n",
       "484                0.0        80.0              36.0             1.0   \n",
       "485             5302.0       138.0             360.0             1.0   \n",
       "486             1872.0       132.0             360.0             0.0   \n",
       "\n",
       "     Property_Area  Dependents_0  Dependents_1  Dependents_2  Dependents_3+  \n",
       "0                2             0             1             0              0  \n",
       "1                1             1             0             0              0  \n",
       "2                1             1             0             0              0  \n",
       "3                1             1             0             0              0  \n",
       "4                1             1             0             0              0  \n",
       "..             ...           ...           ...           ...            ...  \n",
       "482              1             0             0             1              0  \n",
       "483              0             1             0             0              0  \n",
       "484              0             1             0             0              0  \n",
       "485              2             0             1             0              0  \n",
       "486              0             0             0             1              0  \n",
       "\n",
       "[487 rows x 14 columns]"
      ]
     },
     "execution_count": 30,
     "metadata": {},
     "output_type": "execute_result"
    }
   ],
   "source": [
    "x_sample"
   ]
  },
  {
   "cell_type": "markdown",
   "id": "7526323b",
   "metadata": {},
   "source": [
    "### reducing the impact of outliers "
   ]
  },
  {
   "cell_type": "markdown",
   "id": "3caa4cf9",
   "metadata": {},
   "source": [
    "### scalling"
   ]
  },
  {
   "cell_type": "code",
   "execution_count": 31,
   "id": "187e22ba",
   "metadata": {},
   "outputs": [
    {
     "data": {
      "text/html": [
       "<div>\n",
       "<style scoped>\n",
       "    .dataframe tbody tr th:only-of-type {\n",
       "        vertical-align: middle;\n",
       "    }\n",
       "\n",
       "    .dataframe tbody tr th {\n",
       "        vertical-align: top;\n",
       "    }\n",
       "\n",
       "    .dataframe thead th {\n",
       "        text-align: right;\n",
       "    }\n",
       "</style>\n",
       "<table border=\"1\" class=\"dataframe\">\n",
       "  <thead>\n",
       "    <tr style=\"text-align: right;\">\n",
       "      <th></th>\n",
       "      <th>Gender</th>\n",
       "      <th>Married</th>\n",
       "      <th>Education</th>\n",
       "      <th>Self_Employed</th>\n",
       "      <th>ApplicantIncome</th>\n",
       "      <th>CoapplicantIncome</th>\n",
       "      <th>LoanAmount</th>\n",
       "      <th>Loan_Amount_Term</th>\n",
       "      <th>Credit_History</th>\n",
       "      <th>Property_Area</th>\n",
       "      <th>Dependents_0</th>\n",
       "      <th>Dependents_1</th>\n",
       "      <th>Dependents_2</th>\n",
       "      <th>Dependents_3+</th>\n",
       "    </tr>\n",
       "  </thead>\n",
       "  <tbody>\n",
       "    <tr>\n",
       "      <th>0</th>\n",
       "      <td>0.0</td>\n",
       "      <td>1.0</td>\n",
       "      <td>1.0</td>\n",
       "      <td>0.0</td>\n",
       "      <td>0.464043</td>\n",
       "      <td>0.044567</td>\n",
       "      <td>0.843972</td>\n",
       "      <td>0.743590</td>\n",
       "      <td>1.0</td>\n",
       "      <td>1.0</td>\n",
       "      <td>0.0</td>\n",
       "      <td>1.0</td>\n",
       "      <td>0.0</td>\n",
       "      <td>0.0</td>\n",
       "    </tr>\n",
       "    <tr>\n",
       "      <th>1</th>\n",
       "      <td>0.0</td>\n",
       "      <td>1.0</td>\n",
       "      <td>1.0</td>\n",
       "      <td>1.0</td>\n",
       "      <td>0.298336</td>\n",
       "      <td>0.000000</td>\n",
       "      <td>0.404255</td>\n",
       "      <td>0.743590</td>\n",
       "      <td>1.0</td>\n",
       "      <td>0.5</td>\n",
       "      <td>1.0</td>\n",
       "      <td>0.0</td>\n",
       "      <td>0.0</td>\n",
       "      <td>0.0</td>\n",
       "    </tr>\n",
       "    <tr>\n",
       "      <th>2</th>\n",
       "      <td>0.0</td>\n",
       "      <td>1.0</td>\n",
       "      <td>0.0</td>\n",
       "      <td>0.0</td>\n",
       "      <td>0.254684</td>\n",
       "      <td>0.069687</td>\n",
       "      <td>0.787234</td>\n",
       "      <td>0.743590</td>\n",
       "      <td>1.0</td>\n",
       "      <td>0.5</td>\n",
       "      <td>1.0</td>\n",
       "      <td>0.0</td>\n",
       "      <td>0.0</td>\n",
       "      <td>0.0</td>\n",
       "    </tr>\n",
       "    <tr>\n",
       "      <th>3</th>\n",
       "      <td>0.0</td>\n",
       "      <td>0.0</td>\n",
       "      <td>1.0</td>\n",
       "      <td>0.0</td>\n",
       "      <td>0.612373</td>\n",
       "      <td>0.000000</td>\n",
       "      <td>0.936170</td>\n",
       "      <td>0.743590</td>\n",
       "      <td>1.0</td>\n",
       "      <td>0.5</td>\n",
       "      <td>1.0</td>\n",
       "      <td>0.0</td>\n",
       "      <td>0.0</td>\n",
       "      <td>0.0</td>\n",
       "    </tr>\n",
       "    <tr>\n",
       "      <th>4</th>\n",
       "      <td>0.0</td>\n",
       "      <td>1.0</td>\n",
       "      <td>0.0</td>\n",
       "      <td>0.0</td>\n",
       "      <td>0.228515</td>\n",
       "      <td>0.044803</td>\n",
       "      <td>0.609929</td>\n",
       "      <td>0.743590</td>\n",
       "      <td>1.0</td>\n",
       "      <td>0.5</td>\n",
       "      <td>1.0</td>\n",
       "      <td>0.0</td>\n",
       "      <td>0.0</td>\n",
       "      <td>0.0</td>\n",
       "    </tr>\n",
       "    <tr>\n",
       "      <th>...</th>\n",
       "      <td>...</td>\n",
       "      <td>...</td>\n",
       "      <td>...</td>\n",
       "      <td>...</td>\n",
       "      <td>...</td>\n",
       "      <td>...</td>\n",
       "      <td>...</td>\n",
       "      <td>...</td>\n",
       "      <td>...</td>\n",
       "      <td>...</td>\n",
       "      <td>...</td>\n",
       "      <td>...</td>\n",
       "      <td>...</td>\n",
       "      <td>...</td>\n",
       "    </tr>\n",
       "    <tr>\n",
       "      <th>482</th>\n",
       "      <td>0.0</td>\n",
       "      <td>1.0</td>\n",
       "      <td>1.0</td>\n",
       "      <td>0.0</td>\n",
       "      <td>0.462263</td>\n",
       "      <td>0.000000</td>\n",
       "      <td>0.645390</td>\n",
       "      <td>0.743590</td>\n",
       "      <td>1.0</td>\n",
       "      <td>0.5</td>\n",
       "      <td>0.0</td>\n",
       "      <td>0.0</td>\n",
       "      <td>1.0</td>\n",
       "      <td>0.0</td>\n",
       "    </tr>\n",
       "    <tr>\n",
       "      <th>483</th>\n",
       "      <td>0.0</td>\n",
       "      <td>0.0</td>\n",
       "      <td>1.0</td>\n",
       "      <td>0.0</td>\n",
       "      <td>0.342091</td>\n",
       "      <td>0.000000</td>\n",
       "      <td>0.836879</td>\n",
       "      <td>0.743590</td>\n",
       "      <td>1.0</td>\n",
       "      <td>0.0</td>\n",
       "      <td>1.0</td>\n",
       "      <td>0.0</td>\n",
       "      <td>0.0</td>\n",
       "      <td>0.0</td>\n",
       "    </tr>\n",
       "    <tr>\n",
       "      <th>484</th>\n",
       "      <td>0.0</td>\n",
       "      <td>0.0</td>\n",
       "      <td>0.0</td>\n",
       "      <td>0.0</td>\n",
       "      <td>0.335811</td>\n",
       "      <td>0.000000</td>\n",
       "      <td>0.503546</td>\n",
       "      <td>0.051282</td>\n",
       "      <td>1.0</td>\n",
       "      <td>0.0</td>\n",
       "      <td>1.0</td>\n",
       "      <td>0.0</td>\n",
       "      <td>0.0</td>\n",
       "      <td>0.0</td>\n",
       "    </tr>\n",
       "    <tr>\n",
       "      <th>485</th>\n",
       "      <td>0.0</td>\n",
       "      <td>1.0</td>\n",
       "      <td>0.0</td>\n",
       "      <td>0.0</td>\n",
       "      <td>0.408249</td>\n",
       "      <td>0.156692</td>\n",
       "      <td>0.914894</td>\n",
       "      <td>0.743590</td>\n",
       "      <td>1.0</td>\n",
       "      <td>1.0</td>\n",
       "      <td>0.0</td>\n",
       "      <td>1.0</td>\n",
       "      <td>0.0</td>\n",
       "      <td>0.0</td>\n",
       "    </tr>\n",
       "    <tr>\n",
       "      <th>486</th>\n",
       "      <td>0.0</td>\n",
       "      <td>1.0</td>\n",
       "      <td>1.0</td>\n",
       "      <td>0.0</td>\n",
       "      <td>0.285041</td>\n",
       "      <td>0.055324</td>\n",
       "      <td>0.872340</td>\n",
       "      <td>0.743590</td>\n",
       "      <td>0.0</td>\n",
       "      <td>0.0</td>\n",
       "      <td>0.0</td>\n",
       "      <td>0.0</td>\n",
       "      <td>1.0</td>\n",
       "      <td>0.0</td>\n",
       "    </tr>\n",
       "  </tbody>\n",
       "</table>\n",
       "<p>487 rows × 14 columns</p>\n",
       "</div>"
      ],
      "text/plain": [
       "     Gender  Married  Education  Self_Employed  ApplicantIncome  \\\n",
       "0       0.0      1.0        1.0            0.0         0.464043   \n",
       "1       0.0      1.0        1.0            1.0         0.298336   \n",
       "2       0.0      1.0        0.0            0.0         0.254684   \n",
       "3       0.0      0.0        1.0            0.0         0.612373   \n",
       "4       0.0      1.0        0.0            0.0         0.228515   \n",
       "..      ...      ...        ...            ...              ...   \n",
       "482     0.0      1.0        1.0            0.0         0.462263   \n",
       "483     0.0      0.0        1.0            0.0         0.342091   \n",
       "484     0.0      0.0        0.0            0.0         0.335811   \n",
       "485     0.0      1.0        0.0            0.0         0.408249   \n",
       "486     0.0      1.0        1.0            0.0         0.285041   \n",
       "\n",
       "     CoapplicantIncome  LoanAmount  Loan_Amount_Term  Credit_History  \\\n",
       "0             0.044567    0.843972          0.743590             1.0   \n",
       "1             0.000000    0.404255          0.743590             1.0   \n",
       "2             0.069687    0.787234          0.743590             1.0   \n",
       "3             0.000000    0.936170          0.743590             1.0   \n",
       "4             0.044803    0.609929          0.743590             1.0   \n",
       "..                 ...         ...               ...             ...   \n",
       "482           0.000000    0.645390          0.743590             1.0   \n",
       "483           0.000000    0.836879          0.743590             1.0   \n",
       "484           0.000000    0.503546          0.051282             1.0   \n",
       "485           0.156692    0.914894          0.743590             1.0   \n",
       "486           0.055324    0.872340          0.743590             0.0   \n",
       "\n",
       "     Property_Area  Dependents_0  Dependents_1  Dependents_2  Dependents_3+  \n",
       "0              1.0           0.0           1.0           0.0            0.0  \n",
       "1              0.5           1.0           0.0           0.0            0.0  \n",
       "2              0.5           1.0           0.0           0.0            0.0  \n",
       "3              0.5           1.0           0.0           0.0            0.0  \n",
       "4              0.5           1.0           0.0           0.0            0.0  \n",
       "..             ...           ...           ...           ...            ...  \n",
       "482            0.5           0.0           0.0           1.0            0.0  \n",
       "483            0.0           1.0           0.0           0.0            0.0  \n",
       "484            0.0           1.0           0.0           0.0            0.0  \n",
       "485            1.0           0.0           1.0           0.0            0.0  \n",
       "486            0.0           0.0           0.0           1.0            0.0  \n",
       "\n",
       "[487 rows x 14 columns]"
      ]
     },
     "execution_count": 31,
     "metadata": {},
     "output_type": "execute_result"
    }
   ],
   "source": [
    "normal_scalar = MinMaxScaler()\n",
    "\n",
    "array = normal_scalar.fit_transform(x_sample)\n",
    "\n",
    "x_normal_df = pd.DataFrame(array, columns=x_sample.columns)\n",
    "x_normal_df"
   ]
  },
  {
   "cell_type": "code",
   "execution_count": 32,
   "id": "22f9eecc",
   "metadata": {},
   "outputs": [],
   "source": [
    "x = x_normal_df\n",
    "y = y_sample"
   ]
  },
  {
   "cell_type": "code",
   "execution_count": 33,
   "id": "12c4e1b3",
   "metadata": {},
   "outputs": [],
   "source": [
    "x_train, x_test, y_train, y_test = train_test_split(x, y, test_size=0.2, random_state=42)"
   ]
  },
  {
   "cell_type": "code",
   "execution_count": 34,
   "id": "4f38a559",
   "metadata": {},
   "outputs": [],
   "source": [
    "model_details = []\n",
    "testing_accuracy_list = []\n",
    "training_accuracy_list = []"
   ]
  },
  {
   "cell_type": "markdown",
   "id": "c11c581f",
   "metadata": {},
   "source": [
    "## Model Building & Model Evaluation"
   ]
  },
  {
   "cell_type": "markdown",
   "id": "4518ecff",
   "metadata": {},
   "source": [
    "### Logistic Regression"
   ]
  },
  {
   "cell_type": "code",
   "execution_count": 35,
   "id": "5e666896",
   "metadata": {},
   "outputs": [
    {
     "name": "stdout",
     "output_type": "stream",
     "text": [
      "0.794344473007712\n",
      "\n",
      "              precision    recall  f1-score   support\n",
      "\n",
      "           0       0.60      0.88      0.71       112\n",
      "           1       0.94      0.76      0.84       277\n",
      "\n",
      "    accuracy                           0.79       389\n",
      "   macro avg       0.77      0.82      0.78       389\n",
      "weighted avg       0.84      0.79      0.80       389\n",
      "\n"
     ]
    },
    {
     "data": {
      "image/png": "[encoded data removed]",
      "text/plain": [
       "<Figure size 640x480 with 2 Axes>"
      ]
     },
     "metadata": {},
     "output_type": "display_data"
    }
   ],
   "source": [
    "logistic_model = LogisticRegression()\n",
    "logistic_model.fit(x_train,y_train)\n",
    "model_details.append(\"logistic_regression_with_normal_scalar \")\n",
    "\n",
    "y_pred_train = logistic_model.predict(x_train)\n",
    "\n",
    "plot_confusion_matrix(logistic_model,x_train,y_train)\n",
    "\n",
    "accuracy =  accuracy_score(y_pred_train,y_train)\n",
    "\n",
    "clf_report = classification_report(y_pred_train,y_train)\n",
    "\n",
    "\n",
    "print(accuracy)\n",
    "print()\n",
    "print(clf_report)\n",
    "\n",
    "training_accuracy_list.append(accuracy)\n"
   ]
  },
  {
   "cell_type": "code",
   "execution_count": 36,
   "id": "5db8dc79",
   "metadata": {
    "scrolled": false
   },
   "outputs": [
    {
     "name": "stdout",
     "output_type": "stream",
     "text": [
      "0.7653061224489796\n",
      "\n",
      "              precision    recall  f1-score   support\n",
      "\n",
      "           0       0.62      0.91      0.74        35\n",
      "           1       0.93      0.68      0.79        63\n",
      "\n",
      "    accuracy                           0.77        98\n",
      "   macro avg       0.78      0.80      0.76        98\n",
      "weighted avg       0.82      0.77      0.77        98\n",
      "\n"
     ]
    },
    {
     "data": {
      "image/png": "[encoded data removed]",
      "text/plain": [
       "<Figure size 640x480 with 2 Axes>"
      ]
     },
     "metadata": {},
     "output_type": "display_data"
    }
   ],
   "source": [
    "y_pred_test = logistic_model.predict(x_test)\n",
    "\n",
    "plot_confusion_matrix(logistic_model,x_test,y_test)\n",
    "\n",
    "accuracy =  accuracy_score(y_pred_test,y_test)\n",
    "\n",
    "clf_report = classification_report(y_pred_test,y_test)\n",
    "\n",
    "\n",
    "\n",
    "print(accuracy)\n",
    "print()\n",
    "print(clf_report)\n",
    "\n",
    "testing_accuracy_list.append(accuracy)"
   ]
  },
  {
   "cell_type": "markdown",
   "id": "18cabfc8",
   "metadata": {},
   "source": [
    "### Decision Tree"
   ]
  },
  {
   "cell_type": "code",
   "execution_count": 37,
   "id": "228638b1",
   "metadata": {},
   "outputs": [
    {
     "data": {
      "text/plain": [
       "DecisionTreeClassifier(random_state=11)"
      ]
     },
     "execution_count": 37,
     "metadata": {},
     "output_type": "execute_result"
    }
   ],
   "source": [
    "dt_clf = DecisionTreeClassifier(random_state=11)\n",
    "dt_clf.fit(x_train, y_train)"
   ]
  },
  {
   "cell_type": "code",
   "execution_count": 38,
   "id": "52ce6013",
   "metadata": {},
   "outputs": [
    {
     "name": "stdout",
     "output_type": "stream",
     "text": [
      "1.0\n",
      "\n",
      "              precision    recall  f1-score   support\n",
      "\n",
      "           0       1.00      1.00      1.00       164\n",
      "           1       1.00      1.00      1.00       225\n",
      "\n",
      "    accuracy                           1.00       389\n",
      "   macro avg       1.00      1.00      1.00       389\n",
      "weighted avg       1.00      1.00      1.00       389\n",
      "\n"
     ]
    },
    {
     "data": {
      "image/png": "[encoded data removed]",
      "text/plain": [
       "<Figure size 640x480 with 2 Axes>"
      ]
     },
     "metadata": {},
     "output_type": "display_data"
    }
   ],
   "source": [
    "model_details.append(\"Decision_Tree_normal_scalar\")\n",
    "\n",
    "y_pred_train = dt_clf.predict(x_train)\n",
    "\n",
    "plot_confusion_matrix(dt_clf,x_train,y_train)\n",
    "\n",
    "accuracy =  accuracy_score(y_pred_train,y_train)\n",
    "\n",
    "clf_report = classification_report(y_pred_train,y_train)\n",
    "\n",
    "\n",
    "print(accuracy)\n",
    "print()\n",
    "print(clf_report)\n",
    "\n",
    "training_accuracy_list.append(accuracy)"
   ]
  },
  {
   "cell_type": "code",
   "execution_count": 39,
   "id": "3f8f6dbc",
   "metadata": {},
   "outputs": [
    {
     "name": "stdout",
     "output_type": "stream",
     "text": [
      "0.9081632653061225\n",
      "\n",
      "              precision    recall  f1-score   support\n",
      "\n",
      "           0       0.94      0.89      0.92        55\n",
      "           1       0.87      0.93      0.90        43\n",
      "\n",
      "    accuracy                           0.91        98\n",
      "   macro avg       0.91      0.91      0.91        98\n",
      "weighted avg       0.91      0.91      0.91        98\n",
      "\n"
     ]
    },
    {
     "data": {
      "image/png": "[encoded data removed]",
      "text/plain": [
       "<Figure size 640x480 with 2 Axes>"
      ]
     },
     "metadata": {},
     "output_type": "display_data"
    }
   ],
   "source": [
    "y_pred_test = dt_clf.predict(x_test)\n",
    "\n",
    "plot_confusion_matrix(dt_clf,x_test,y_test)\n",
    "\n",
    "accuracy =  accuracy_score(y_pred_test,y_test)\n",
    "\n",
    "clf_report = classification_report(y_pred_test,y_test)\n",
    "\n",
    "\n",
    "\n",
    "print(accuracy)\n",
    "print()\n",
    "print(clf_report)\n",
    "\n",
    "testing_accuracy_list.append(accuracy)"
   ]
  },
  {
   "cell_type": "markdown",
   "id": "8aceab04",
   "metadata": {},
   "source": [
    "### Decision Tree with hyperparameter tuning"
   ]
  },
  {
   "cell_type": "code",
   "execution_count": 40,
   "id": "e7bfb6a4",
   "metadata": {},
   "outputs": [
    {
     "name": "stdout",
     "output_type": "stream",
     "text": [
      "Required Time : 11.350667953491211 sec\n"
     ]
    }
   ],
   "source": [
    "import time\n",
    "t1 = time.time()\n",
    "\n",
    "dt_model = DecisionTreeClassifier(random_state=11)\n",
    "\n",
    "hyperparameter = {\"criterion\":['gini', 'entropy'], \n",
    "                 \"max_depth\": np.arange(3,8),\n",
    "                 \"min_samples_split\": np.arange(2,20),\n",
    "                 \"min_samples_leaf\": np.arange(2,15)}  \n",
    "gscv_dt_clf = GridSearchCV(dt_model, hyperparameter, cv=5,n_jobs=-1)\n",
    "gscv_dt_clf.fit(x_train, y_train)\n",
    "\n",
    "t2 = time.time()\n",
    "print(\"Required Time :\", t2-t1, \"sec\")\n",
    "\n",
    "model_details.append(\"Decision_Tree_Hyperparameter tuning_with_normal_scalar \")\n"
   ]
  },
  {
   "cell_type": "code",
   "execution_count": 41,
   "id": "5d21c730",
   "metadata": {},
   "outputs": [
    {
     "data": {
      "text/plain": [
       "DecisionTreeClassifier(max_depth=7, min_samples_leaf=3, random_state=11)"
      ]
     },
     "execution_count": 41,
     "metadata": {},
     "output_type": "execute_result"
    }
   ],
   "source": [
    "gscv_dt_clf.best_estimator_             # best estimators"
   ]
  },
  {
   "cell_type": "code",
   "execution_count": 42,
   "id": "aefe0957",
   "metadata": {},
   "outputs": [
    {
     "name": "stdout",
     "output_type": "stream",
     "text": [
      "0.87146529562982\n",
      "\n",
      "              precision    recall  f1-score   support\n",
      "\n",
      "           0       0.80      0.88      0.84       150\n",
      "           1       0.92      0.87      0.89       239\n",
      "\n",
      "    accuracy                           0.87       389\n",
      "   macro avg       0.86      0.87      0.87       389\n",
      "weighted avg       0.88      0.87      0.87       389\n",
      "\n"
     ]
    },
    {
     "data": {
      "image/png": "[encoded data removed]",
      "text/plain": [
       "<Figure size 640x480 with 2 Axes>"
      ]
     },
     "metadata": {},
     "output_type": "display_data"
    }
   ],
   "source": [
    "# Training Accuracy\n",
    "\n",
    "y_pred_train = gscv_dt_clf.predict(x_train)\n",
    "\n",
    "plot_confusion_matrix(gscv_dt_clf,x_train,y_train)\n",
    "\n",
    "accuracy =  accuracy_score(y_pred_train,y_train)\n",
    "\n",
    "clf_report = classification_report(y_pred_train,y_train)\n",
    "\n",
    "\n",
    "print(accuracy)\n",
    "print()\n",
    "print(clf_report)\n",
    "\n",
    "training_accuracy_list.append(accuracy)"
   ]
  },
  {
   "cell_type": "code",
   "execution_count": 43,
   "id": "c5951675",
   "metadata": {},
   "outputs": [
    {
     "name": "stdout",
     "output_type": "stream",
     "text": [
      "0.826530612244898\n",
      "\n",
      "              precision    recall  f1-score   support\n",
      "\n",
      "           0       0.79      0.87      0.83        47\n",
      "           1       0.87      0.78      0.82        51\n",
      "\n",
      "    accuracy                           0.83        98\n",
      "   macro avg       0.83      0.83      0.83        98\n",
      "weighted avg       0.83      0.83      0.83        98\n",
      "\n"
     ]
    },
    {
     "data": {
      "image/png": "[encoded data removed]",
      "text/plain": [
       "<Figure size 640x480 with 2 Axes>"
      ]
     },
     "metadata": {},
     "output_type": "display_data"
    }
   ],
   "source": [
    "# testing accuracy\n",
    "\n",
    "y_pred_test = gscv_dt_clf.predict(x_test)\n",
    "\n",
    "plot_confusion_matrix(gscv_dt_clf,x_test,y_test)\n",
    "\n",
    "accuracy =  accuracy_score(y_pred_test,y_test)\n",
    "\n",
    "clf_report = classification_report(y_pred_test,y_test)\n",
    "\n",
    "\n",
    "print(accuracy)\n",
    "print()\n",
    "print(clf_report)\n",
    "\n",
    "testing_accuracy_list.append(accuracy)"
   ]
  },
  {
   "cell_type": "markdown",
   "id": "7fcb4d4e",
   "metadata": {},
   "source": [
    "### Random Forest"
   ]
  },
  {
   "cell_type": "code",
   "execution_count": 44,
   "id": "be01912b",
   "metadata": {},
   "outputs": [],
   "source": [
    "rf_clf = RandomForestClassifier(random_state=10)\n",
    "rf_clf.fit(x_train, y_train)\n",
    "model_details.append(\"Random Forest with normal_scalar \")"
   ]
  },
  {
   "cell_type": "code",
   "execution_count": 45,
   "id": "55ba2f44",
   "metadata": {},
   "outputs": [
    {
     "name": "stdout",
     "output_type": "stream",
     "text": [
      "1.0\n",
      "\n",
      "              precision    recall  f1-score   support\n",
      "\n",
      "           0       1.00      1.00      1.00       164\n",
      "           1       1.00      1.00      1.00       225\n",
      "\n",
      "    accuracy                           1.00       389\n",
      "   macro avg       1.00      1.00      1.00       389\n",
      "weighted avg       1.00      1.00      1.00       389\n",
      "\n"
     ]
    },
    {
     "data": {
      "image/png": "[encoded data removed]",
      "text/plain": [
       "<Figure size 640x480 with 2 Axes>"
      ]
     },
     "metadata": {},
     "output_type": "display_data"
    }
   ],
   "source": [
    "# Training Accuracy\n",
    "\n",
    "y_pred_train = rf_clf.predict(x_train)\n",
    "\n",
    "plot_confusion_matrix(rf_clf,x_train,y_train)\n",
    "\n",
    "accuracy =  accuracy_score(y_pred_train,y_train)\n",
    "\n",
    "clf_report = classification_report(y_pred_train,y_train)\n",
    "\n",
    "\n",
    "print(accuracy)\n",
    "print()\n",
    "print(clf_report)\n",
    "\n",
    "training_accuracy_list.append(accuracy)"
   ]
  },
  {
   "cell_type": "code",
   "execution_count": 46,
   "id": "7fbd7eed",
   "metadata": {},
   "outputs": [
    {
     "name": "stdout",
     "output_type": "stream",
     "text": [
      "0.9081632653061225\n",
      "\n",
      "              precision    recall  f1-score   support\n",
      "\n",
      "           0       0.87      0.96      0.91        47\n",
      "           1       0.96      0.86      0.91        51\n",
      "\n",
      "    accuracy                           0.91        98\n",
      "   macro avg       0.91      0.91      0.91        98\n",
      "weighted avg       0.91      0.91      0.91        98\n",
      "\n"
     ]
    },
    {
     "data": {
      "image/png": "[encoded data removed]",
      "text/plain": [
       "<Figure size 640x480 with 2 Axes>"
      ]
     },
     "metadata": {},
     "output_type": "display_data"
    }
   ],
   "source": [
    "# testing accuracy\n",
    "\n",
    "y_pred_test = rf_clf.predict(x_test)\n",
    "\n",
    "plot_confusion_matrix(rf_clf,x_test,y_test)\n",
    "\n",
    "accuracy =  accuracy_score(y_pred_test,y_test)\n",
    "\n",
    "clf_report = classification_report(y_pred_test,y_test)\n",
    "\n",
    "\n",
    "print(accuracy)\n",
    "print()\n",
    "print(clf_report)\n",
    "\n",
    "testing_accuracy_list.append(accuracy)"
   ]
  },
  {
   "cell_type": "markdown",
   "id": "93e9d0fc",
   "metadata": {},
   "source": [
    "### Random Forest With Hyperparameter Tuning"
   ]
  },
  {
   "cell_type": "code",
   "execution_count": 47,
   "id": "9cb00b6c",
   "metadata": {},
   "outputs": [],
   "source": [
    "rf_model = RandomForestClassifier(random_state=10)\n",
    "\n",
    "param_grid = {\n",
    "                \"n_estimators\": np.arange(10,200),\n",
    "                \"criterion\" : ['gini', 'entropy'],\n",
    "                \"max_depth\" : np.arange(3,8),\n",
    "                \"min_samples_split\" : np.arange(4,20),\n",
    "                \"min_samples_leaf\": np.arange(3,10),\n",
    "                \"max_features\" : ['sqrt', 'log2'],\n",
    "                \"oob_score\" : [True]}\n",
    "\n",
    "gscv_rf_model = RandomizedSearchCV(rf_model, param_grid, cv = 5)\n",
    "gscv_rf_model.fit(x_train, y_train)\n",
    "\n",
    "model_details.append(\"Random _Forest  Hyperparameter tuning with normal_scalar \")\n"
   ]
  },
  {
   "cell_type": "code",
   "execution_count": 48,
   "id": "b180a5ee",
   "metadata": {},
   "outputs": [
    {
     "data": {
      "text/plain": [
       "RandomForestClassifier(max_depth=6, max_features='log2', min_samples_leaf=7,\n",
       "                       min_samples_split=17, n_estimators=78, oob_score=True,\n",
       "                       random_state=10)"
      ]
     },
     "execution_count": 48,
     "metadata": {},
     "output_type": "execute_result"
    }
   ],
   "source": [
    "gscv_rf_model.best_estimator_"
   ]
  },
  {
   "cell_type": "code",
   "execution_count": 49,
   "id": "a3d0e6f3",
   "metadata": {},
   "outputs": [
    {
     "name": "stdout",
     "output_type": "stream",
     "text": [
      "0.8611825192802056\n",
      "\n",
      "              precision    recall  f1-score   support\n",
      "\n",
      "           0       0.69      0.97      0.81       116\n",
      "           1       0.99      0.81      0.89       273\n",
      "\n",
      "    accuracy                           0.86       389\n",
      "   macro avg       0.84      0.89      0.85       389\n",
      "weighted avg       0.90      0.86      0.87       389\n",
      "\n"
     ]
    },
    {
     "data": {
      "image/png": "[encoded data removed]",
      "text/plain": [
       "<Figure size 640x480 with 2 Axes>"
      ]
     },
     "metadata": {},
     "output_type": "display_data"
    }
   ],
   "source": [
    "# Training Accuracy\n",
    "\n",
    "\n",
    "y_pred_train = gscv_rf_model.predict(x_train)\n",
    "\n",
    "plot_confusion_matrix(gscv_rf_model,x_train,y_train)\n",
    "\n",
    "accuracy =  accuracy_score(y_pred_train,y_train)\n",
    "\n",
    "clf_report = classification_report(y_pred_train,y_train)\n",
    "\n",
    "\n",
    "print(accuracy)\n",
    "print()\n",
    "print(clf_report)\n",
    "\n",
    "training_accuracy_list.append(accuracy)"
   ]
  },
  {
   "cell_type": "code",
   "execution_count": 50,
   "id": "e1841bc1",
   "metadata": {},
   "outputs": [
    {
     "name": "stdout",
     "output_type": "stream",
     "text": [
      "0.8061224489795918\n",
      "\n",
      "              precision    recall  f1-score   support\n",
      "\n",
      "           0       0.67      0.95      0.79        37\n",
      "           1       0.96      0.72      0.82        61\n",
      "\n",
      "    accuracy                           0.81        98\n",
      "   macro avg       0.81      0.83      0.80        98\n",
      "weighted avg       0.85      0.81      0.81        98\n",
      "\n"
     ]
    },
    {
     "data": {
      "image/png": "[encoded data removed]",
      "text/plain": [
       "<Figure size 640x480 with 2 Axes>"
      ]
     },
     "metadata": {},
     "output_type": "display_data"
    }
   ],
   "source": [
    "#testing accuracy\n",
    "\n",
    "y_pred_test = gscv_rf_model.predict(x_test)\n",
    "\n",
    "plot_confusion_matrix(gscv_rf_model,x_test,y_test)\n",
    "\n",
    "accuracy =  accuracy_score(y_pred_test,y_test)\n",
    "\n",
    "clf_report = classification_report(y_pred_test,y_test)\n",
    "\n",
    "\n",
    "print(accuracy)\n",
    "print()\n",
    "print(clf_report)\n",
    "\n",
    "testing_accuracy_list.append(accuracy)"
   ]
  },
  {
   "cell_type": "markdown",
   "id": "2b1bc3ce",
   "metadata": {},
   "source": [
    "### AdaBost"
   ]
  },
  {
   "cell_type": "code",
   "execution_count": 51,
   "id": "09b70a39",
   "metadata": {},
   "outputs": [],
   "source": [
    "adb_clf = AdaBoostClassifier(random_state=30)\n",
    "adb_clf.fit(x_train, y_train)\n",
    "\n",
    "model_details.append(\"AdaBost with normal_scalar \")\n"
   ]
  },
  {
   "cell_type": "code",
   "execution_count": 52,
   "id": "017f482e",
   "metadata": {},
   "outputs": [
    {
     "name": "stdout",
     "output_type": "stream",
     "text": [
      "0.897172236503856\n",
      "\n",
      "              precision    recall  f1-score   support\n",
      "\n",
      "           0       0.82      0.93      0.87       144\n",
      "           1       0.96      0.88      0.91       245\n",
      "\n",
      "    accuracy                           0.90       389\n",
      "   macro avg       0.89      0.90      0.89       389\n",
      "weighted avg       0.90      0.90      0.90       389\n",
      "\n"
     ]
    },
    {
     "data": {
      "image/png": "[encoded data removed]",
      "text/plain": [
       "<Figure size 640x480 with 2 Axes>"
      ]
     },
     "metadata": {},
     "output_type": "display_data"
    }
   ],
   "source": [
    "# Training Accuracy\n",
    "\n",
    "y_pred_train = adb_clf.predict(x_train)\n",
    "\n",
    "plot_confusion_matrix(adb_clf,x_train,y_train)\n",
    "\n",
    "accuracy =  accuracy_score(y_pred_train,y_train)\n",
    "\n",
    "clf_report = classification_report(y_pred_train,y_train)\n",
    "\n",
    "\n",
    "print(accuracy)\n",
    "print()\n",
    "print(clf_report)\n",
    "\n",
    "training_accuracy_list.append(accuracy)"
   ]
  },
  {
   "cell_type": "code",
   "execution_count": 53,
   "id": "2696f34e",
   "metadata": {},
   "outputs": [
    {
     "name": "stdout",
     "output_type": "stream",
     "text": [
      "0.8061224489795918\n",
      "\n",
      "              precision    recall  f1-score   support\n",
      "\n",
      "           0       0.75      0.87      0.80        45\n",
      "           1       0.87      0.75      0.81        53\n",
      "\n",
      "    accuracy                           0.81        98\n",
      "   macro avg       0.81      0.81      0.81        98\n",
      "weighted avg       0.81      0.81      0.81        98\n",
      "\n"
     ]
    },
    {
     "data": {
      "image/png": "[encoded data removed]",
      "text/plain": [
       "<Figure size 640x480 with 2 Axes>"
      ]
     },
     "metadata": {},
     "output_type": "display_data"
    }
   ],
   "source": [
    "# testing accuracy\n",
    "\n",
    "y_pred_test = adb_clf.predict(x_test)\n",
    "\n",
    "plot_confusion_matrix(adb_clf,x_test,y_test)\n",
    "\n",
    "accuracy =  accuracy_score(y_pred_test,y_test)\n",
    "\n",
    "clf_report = classification_report(y_pred_test,y_test)\n",
    "\n",
    "\n",
    "print(accuracy)\n",
    "print()\n",
    "print(clf_report)\n",
    "\n",
    "testing_accuracy_list.append(accuracy)"
   ]
  },
  {
   "cell_type": "markdown",
   "id": "b1554a8e",
   "metadata": {},
   "source": [
    "### Adabost with hyperparameter tuning"
   ]
  },
  {
   "cell_type": "code",
   "execution_count": 54,
   "id": "07edb3a6",
   "metadata": {},
   "outputs": [],
   "source": [
    "adb_clf = AdaBoostClassifier(random_state=30)\n",
    "\n",
    "param_grid = {\n",
    "            \"n_estimators\" : np.arange(10,200,2),\n",
    "            \"learning_rate\" : np.arange(0,2,0.001)\n",
    "                }\n",
    "\n",
    "gscv_adb_clf = RandomizedSearchCV(adb_clf, param_grid, cv=7)\n",
    "gscv_adb_clf.fit(x_train, y_train)\n",
    "gscv_adb_clf.best_estimator_\n",
    "model_details.append(\"AdaBost hyperparameter_tuning with normal_scalar \")"
   ]
  },
  {
   "cell_type": "code",
   "execution_count": 55,
   "id": "ba66c366",
   "metadata": {},
   "outputs": [
    {
     "name": "stdout",
     "output_type": "stream",
     "text": [
      "0.9768637532133676\n",
      "\n",
      "              precision    recall  f1-score   support\n",
      "\n",
      "           0       0.97      0.98      0.97       163\n",
      "           1       0.98      0.98      0.98       226\n",
      "\n",
      "    accuracy                           0.98       389\n",
      "   macro avg       0.98      0.98      0.98       389\n",
      "weighted avg       0.98      0.98      0.98       389\n",
      "\n"
     ]
    },
    {
     "data": {
      "image/png": "[encoded data removed]",
      "text/plain": [
       "<Figure size 640x480 with 2 Axes>"
      ]
     },
     "metadata": {},
     "output_type": "display_data"
    }
   ],
   "source": [
    "# Training Accuracy\n",
    "\n",
    "y_pred_train = gscv_adb_clf.predict(x_train)\n",
    "\n",
    "plot_confusion_matrix(gscv_adb_clf,x_train,y_train)\n",
    "\n",
    "accuracy =  accuracy_score(y_pred_train,y_train)\n",
    "\n",
    "clf_report = classification_report(y_pred_train,y_train)\n",
    "\n",
    "\n",
    "print(accuracy)\n",
    "print()\n",
    "print(clf_report)\n",
    "\n",
    "training_accuracy_list.append(accuracy)"
   ]
  },
  {
   "cell_type": "code",
   "execution_count": 56,
   "id": "a1ba6dc2",
   "metadata": {},
   "outputs": [
    {
     "name": "stdout",
     "output_type": "stream",
     "text": [
      "0.8673469387755102\n",
      "\n",
      "              precision    recall  f1-score   support\n",
      "\n",
      "           0       0.87      0.88      0.87        51\n",
      "           1       0.87      0.85      0.86        47\n",
      "\n",
      "    accuracy                           0.87        98\n",
      "   macro avg       0.87      0.87      0.87        98\n",
      "weighted avg       0.87      0.87      0.87        98\n",
      "\n"
     ]
    },
    {
     "data": {
      "image/png": "[encoded data removed]",
      "text/plain": [
       "<Figure size 640x480 with 2 Axes>"
      ]
     },
     "metadata": {},
     "output_type": "display_data"
    }
   ],
   "source": [
    "# testing accuracy\n",
    "\n",
    "y_pred_test = gscv_adb_clf.predict(x_test)\n",
    "\n",
    "plot_confusion_matrix(gscv_adb_clf,x_test,y_test)\n",
    "\n",
    "accuracy =  accuracy_score(y_pred_test,y_test)\n",
    "\n",
    "clf_report = classification_report(y_pred_test,y_test)\n",
    "\n",
    "\n",
    "print(accuracy)\n",
    "print()\n",
    "print(clf_report)\n",
    "\n",
    "testing_accuracy_list.append(accuracy)"
   ]
  },
  {
   "cell_type": "markdown",
   "id": "85b77ba9",
   "metadata": {},
   "source": [
    "### K Nearesr Neighbour on Normalized data"
   ]
  },
  {
   "cell_type": "code",
   "execution_count": 57,
   "id": "3052666c",
   "metadata": {},
   "outputs": [],
   "source": [
    "knn_clf = KNeighborsClassifier()\n",
    "knn_clf.fit(x_train, y_train)\n",
    "model_details.append(\"Knn_Normalization Model\")"
   ]
  },
  {
   "cell_type": "code",
   "execution_count": 58,
   "id": "1d6c3605",
   "metadata": {},
   "outputs": [
    {
     "name": "stdout",
     "output_type": "stream",
     "text": [
      "0.8534704370179949\n",
      "\n",
      "              precision    recall  f1-score   support\n",
      "\n",
      "           0       0.79      0.85      0.82       153\n",
      "           1       0.90      0.86      0.88       236\n",
      "\n",
      "    accuracy                           0.85       389\n",
      "   macro avg       0.85      0.85      0.85       389\n",
      "weighted avg       0.86      0.85      0.85       389\n",
      "\n"
     ]
    },
    {
     "data": {
      "image/png": "[encoded data removed]",
      "text/plain": [
       "<Figure size 640x480 with 2 Axes>"
      ]
     },
     "metadata": {},
     "output_type": "display_data"
    }
   ],
   "source": [
    "# Training Accuracy\n",
    "\n",
    "y_pred_train = knn_clf.predict(x_train)\n",
    "\n",
    "plot_confusion_matrix(knn_clf,x_train,y_train)\n",
    "\n",
    "accuracy =  accuracy_score(y_pred_train,y_train)\n",
    "\n",
    "clf_report = classification_report(y_pred_train,y_train)\n",
    "\n",
    "\n",
    "print(accuracy)\n",
    "print()\n",
    "print(clf_report)\n",
    "\n",
    "training_accuracy_list.append(accuracy)"
   ]
  },
  {
   "cell_type": "code",
   "execution_count": 59,
   "id": "b674a2ea",
   "metadata": {},
   "outputs": [
    {
     "name": "stdout",
     "output_type": "stream",
     "text": [
      "0.7551020408163265\n",
      "\n",
      "              precision    recall  f1-score   support\n",
      "\n",
      "           0       0.69      0.82      0.75        44\n",
      "           1       0.83      0.70      0.76        54\n",
      "\n",
      "    accuracy                           0.76        98\n",
      "   macro avg       0.76      0.76      0.76        98\n",
      "weighted avg       0.77      0.76      0.76        98\n",
      "\n"
     ]
    },
    {
     "data": {
      "image/png": "[encoded data removed]",
      "text/plain": [
       "<Figure size 640x480 with 2 Axes>"
      ]
     },
     "metadata": {},
     "output_type": "display_data"
    }
   ],
   "source": [
    "# testing accuracy\n",
    "\n",
    "y_pred_test = knn_clf.predict(x_test)\n",
    "\n",
    "plot_confusion_matrix(knn_clf,x_test,y_test)\n",
    "\n",
    "accuracy =  accuracy_score(y_pred_test,y_test)\n",
    "\n",
    "clf_report = classification_report(y_pred_test,y_test)\n",
    "\n",
    "\n",
    "print(accuracy)\n",
    "print()\n",
    "print(clf_report)\n",
    "\n",
    "testing_accuracy_list.append(accuracy)"
   ]
  },
  {
   "cell_type": "markdown",
   "id": "59fcf00e",
   "metadata": {},
   "source": [
    "### Knn(normalization)with hyperparameter tuning"
   ]
  },
  {
   "cell_type": "code",
   "execution_count": 60,
   "id": "c6ef7fe0",
   "metadata": {},
   "outputs": [],
   "source": [
    "knn_clf = KNeighborsClassifier()\n",
    "\n",
    "param_grid = {\"n_neighbors\" : np.arange(3,30),\n",
    "                  \"p\": [1,2]}\n",
    "\n",
    "gscv_knn_clf = GridSearchCV(knn_clf, param_grid, cv = 5 , n_jobs = -1) \n",
    "gscv_knn_clf.fit(x_train, y_train) \n",
    "gscv_knn_clf.best_estimator_\n",
    "\n",
    "model_details.append(\"knn_normalized_model_with_Hyperparameter Tuning\")"
   ]
  },
  {
   "cell_type": "code",
   "execution_count": 61,
   "id": "f22f9882",
   "metadata": {},
   "outputs": [
    {
     "data": {
      "text/plain": [
       "{'n_neighbors': 3, 'p': 1}"
      ]
     },
     "execution_count": 61,
     "metadata": {},
     "output_type": "execute_result"
    }
   ],
   "source": [
    "(gscv_knn_clf.best_params_)         # best estimator"
   ]
  },
  {
   "cell_type": "code",
   "execution_count": 62,
   "id": "5944fad5",
   "metadata": {},
   "outputs": [
    {
     "name": "stdout",
     "output_type": "stream",
     "text": [
      "0.9254498714652957\n",
      "\n",
      "              precision    recall  f1-score   support\n",
      "\n",
      "           0       0.91      0.91      0.91       165\n",
      "           1       0.93      0.94      0.94       224\n",
      "\n",
      "    accuracy                           0.93       389\n",
      "   macro avg       0.92      0.92      0.92       389\n",
      "weighted avg       0.93      0.93      0.93       389\n",
      "\n"
     ]
    },
    {
     "data": {
      "image/png": "[encoded data removed]",
      "text/plain": [
       "<Figure size 640x480 with 2 Axes>"
      ]
     },
     "metadata": {},
     "output_type": "display_data"
    }
   ],
   "source": [
    "# Training Accuracy\n",
    "\n",
    "y_pred_train = gscv_knn_clf.predict(x_train)\n",
    "\n",
    "plot_confusion_matrix(gscv_knn_clf,x_train,y_train)\n",
    "\n",
    "accuracy =  accuracy_score(y_pred_train,y_train)\n",
    "\n",
    "clf_report = classification_report(y_pred_train,y_train)\n",
    "\n",
    "\n",
    "print(accuracy)\n",
    "print()\n",
    "print(clf_report)\n",
    "\n",
    "training_accuracy_list.append(accuracy)"
   ]
  },
  {
   "cell_type": "code",
   "execution_count": 63,
   "id": "d93960d4",
   "metadata": {},
   "outputs": [
    {
     "name": "stdout",
     "output_type": "stream",
     "text": [
      "0.8163265306122449\n",
      "\n",
      "              precision    recall  f1-score   support\n",
      "\n",
      "           0       0.83      0.83      0.83        52\n",
      "           1       0.80      0.80      0.80        46\n",
      "\n",
      "    accuracy                           0.82        98\n",
      "   macro avg       0.82      0.82      0.82        98\n",
      "weighted avg       0.82      0.82      0.82        98\n",
      "\n"
     ]
    },
    {
     "data": {
      "image/png": "[encoded data removed]",
      "text/plain": [
       "<Figure size 640x480 with 2 Axes>"
      ]
     },
     "metadata": {},
     "output_type": "display_data"
    }
   ],
   "source": [
    "# testing accuracy\n",
    "\n",
    "y_pred_test = gscv_knn_clf.predict(x_test)\n",
    "\n",
    "plot_confusion_matrix(gscv_knn_clf,x_test,y_test)\n",
    "\n",
    "accuracy =  accuracy_score(y_pred_test,y_test)\n",
    "\n",
    "clf_report = classification_report(y_pred_test,y_test)\n",
    "\n",
    "\n",
    "print(accuracy)\n",
    "print()\n",
    "print(clf_report)\n",
    "\n",
    "testing_accuracy_list.append(accuracy)"
   ]
  },
  {
   "cell_type": "markdown",
   "id": "e070f204",
   "metadata": {},
   "source": [
    "### svm"
   ]
  },
  {
   "cell_type": "code",
   "execution_count": 64,
   "id": "61c02745",
   "metadata": {},
   "outputs": [],
   "source": [
    "svm_clf = SVC()\n",
    "svm_clf.fit(x_train, y_train)\n",
    "model_details.append(\"SVM with normal_scalar \")"
   ]
  },
  {
   "cell_type": "code",
   "execution_count": 65,
   "id": "1ca9166d",
   "metadata": {},
   "outputs": [
    {
     "name": "stdout",
     "output_type": "stream",
     "text": [
      "0.8123393316195373\n",
      "\n",
      "              precision    recall  f1-score   support\n",
      "\n",
      "           0       0.63      0.89      0.74       117\n",
      "           1       0.94      0.78      0.85       272\n",
      "\n",
      "    accuracy                           0.81       389\n",
      "   macro avg       0.79      0.83      0.80       389\n",
      "weighted avg       0.85      0.81      0.82       389\n",
      "\n"
     ]
    },
    {
     "data": {
      "image/png": "[encoded data removed]",
      "text/plain": [
       "<Figure size 640x480 with 2 Axes>"
      ]
     },
     "metadata": {},
     "output_type": "display_data"
    }
   ],
   "source": [
    "y_pred_train = svm_clf.predict(x_train)\n",
    "\n",
    "plot_confusion_matrix(svm_clf,x_train,y_train)\n",
    "\n",
    "accuracy =  accuracy_score(y_pred_train,y_train)\n",
    "\n",
    "clf_report = classification_report(y_pred_train,y_train)\n",
    "\n",
    "\n",
    "print(accuracy)\n",
    "print()\n",
    "print(clf_report)\n",
    "\n",
    "training_accuracy_list.append(accuracy)"
   ]
  },
  {
   "cell_type": "code",
   "execution_count": 66,
   "id": "a0738640",
   "metadata": {},
   "outputs": [
    {
     "name": "stdout",
     "output_type": "stream",
     "text": [
      "0.7653061224489796\n",
      "\n",
      "              precision    recall  f1-score   support\n",
      "\n",
      "           0       0.63      0.89      0.74        37\n",
      "           1       0.91      0.69      0.79        61\n",
      "\n",
      "    accuracy                           0.77        98\n",
      "   macro avg       0.77      0.79      0.76        98\n",
      "weighted avg       0.81      0.77      0.77        98\n",
      "\n"
     ]
    },
    {
     "data": {
      "image/png": "[encoded data removed]",
      "text/plain": [
       "<Figure size 640x480 with 2 Axes>"
      ]
     },
     "metadata": {},
     "output_type": "display_data"
    }
   ],
   "source": [
    "# testing accuracy\n",
    "\n",
    "y_pred_test = svm_clf.predict(x_test)\n",
    "\n",
    "plot_confusion_matrix(svm_clf,x_test,y_test)\n",
    "\n",
    "accuracy =  accuracy_score(y_pred_test,y_test)\n",
    "\n",
    "clf_report = classification_report(y_pred_test,y_test)\n",
    "\n",
    "\n",
    "print(accuracy)\n",
    "print()\n",
    "print(clf_report)\n",
    "\n",
    "testing_accuracy_list.append(accuracy)"
   ]
  },
  {
   "cell_type": "markdown",
   "id": "4c29cdd8",
   "metadata": {},
   "source": [
    "### Standaradization"
   ]
  },
  {
   "cell_type": "code",
   "execution_count": 67,
   "id": "ce626595",
   "metadata": {},
   "outputs": [
    {
     "data": {
      "text/html": [
       "<div>\n",
       "<style scoped>\n",
       "    .dataframe tbody tr th:only-of-type {\n",
       "        vertical-align: middle;\n",
       "    }\n",
       "\n",
       "    .dataframe tbody tr th {\n",
       "        vertical-align: top;\n",
       "    }\n",
       "\n",
       "    .dataframe thead th {\n",
       "        text-align: right;\n",
       "    }\n",
       "</style>\n",
       "<table border=\"1\" class=\"dataframe\">\n",
       "  <thead>\n",
       "    <tr style=\"text-align: right;\">\n",
       "      <th></th>\n",
       "      <th>Gender</th>\n",
       "      <th>Married</th>\n",
       "      <th>Education</th>\n",
       "      <th>Self_Employed</th>\n",
       "      <th>ApplicantIncome</th>\n",
       "      <th>CoapplicantIncome</th>\n",
       "      <th>LoanAmount</th>\n",
       "      <th>Loan_Amount_Term</th>\n",
       "      <th>Credit_History</th>\n",
       "      <th>Property_Area</th>\n",
       "      <th>Dependents_0</th>\n",
       "      <th>Dependents_1</th>\n",
       "      <th>Dependents_2</th>\n",
       "      <th>Dependents_3+</th>\n",
       "    </tr>\n",
       "  </thead>\n",
       "  <tbody>\n",
       "    <tr>\n",
       "      <th>0</th>\n",
       "      <td>-0.533817</td>\n",
       "      <td>0.841886</td>\n",
       "      <td>0.660741</td>\n",
       "      <td>-0.315155</td>\n",
       "      <td>0.710431</td>\n",
       "      <td>0.095449</td>\n",
       "      <td>0.829767</td>\n",
       "      <td>0.279921</td>\n",
       "      <td>0.530640</td>\n",
       "      <td>1.259548</td>\n",
       "      <td>-1.283253</td>\n",
       "      <td>2.362431</td>\n",
       "      <td>-0.430017</td>\n",
       "      <td>-0.273962</td>\n",
       "    </tr>\n",
       "    <tr>\n",
       "      <th>1</th>\n",
       "      <td>-0.533817</td>\n",
       "      <td>0.841886</td>\n",
       "      <td>0.660741</td>\n",
       "      <td>3.173040</td>\n",
       "      <td>-0.411789</td>\n",
       "      <td>-0.480885</td>\n",
       "      <td>-1.352636</td>\n",
       "      <td>0.279921</td>\n",
       "      <td>0.530640</td>\n",
       "      <td>0.040065</td>\n",
       "      <td>0.779269</td>\n",
       "      <td>-0.423293</td>\n",
       "      <td>-0.430017</td>\n",
       "      <td>-0.273962</td>\n",
       "    </tr>\n",
       "    <tr>\n",
       "      <th>2</th>\n",
       "      <td>-0.533817</td>\n",
       "      <td>0.841886</td>\n",
       "      <td>-1.513453</td>\n",
       "      <td>-0.315155</td>\n",
       "      <td>-0.707409</td>\n",
       "      <td>0.420306</td>\n",
       "      <td>0.548167</td>\n",
       "      <td>0.279921</td>\n",
       "      <td>0.530640</td>\n",
       "      <td>0.040065</td>\n",
       "      <td>0.779269</td>\n",
       "      <td>-0.423293</td>\n",
       "      <td>-0.430017</td>\n",
       "      <td>-0.273962</td>\n",
       "    </tr>\n",
       "    <tr>\n",
       "      <th>3</th>\n",
       "      <td>-0.533817</td>\n",
       "      <td>-1.187809</td>\n",
       "      <td>0.660741</td>\n",
       "      <td>-0.315155</td>\n",
       "      <td>1.714970</td>\n",
       "      <td>-0.480885</td>\n",
       "      <td>1.287368</td>\n",
       "      <td>0.279921</td>\n",
       "      <td>0.530640</td>\n",
       "      <td>0.040065</td>\n",
       "      <td>0.779269</td>\n",
       "      <td>-0.423293</td>\n",
       "      <td>-0.430017</td>\n",
       "      <td>-0.273962</td>\n",
       "    </tr>\n",
       "    <tr>\n",
       "      <th>4</th>\n",
       "      <td>-0.533817</td>\n",
       "      <td>0.841886</td>\n",
       "      <td>-1.513453</td>\n",
       "      <td>-0.315155</td>\n",
       "      <td>-0.884639</td>\n",
       "      <td>0.098506</td>\n",
       "      <td>-0.331835</td>\n",
       "      <td>0.279921</td>\n",
       "      <td>0.530640</td>\n",
       "      <td>0.040065</td>\n",
       "      <td>0.779269</td>\n",
       "      <td>-0.423293</td>\n",
       "      <td>-0.430017</td>\n",
       "      <td>-0.273962</td>\n",
       "    </tr>\n",
       "    <tr>\n",
       "      <th>...</th>\n",
       "      <td>...</td>\n",
       "      <td>...</td>\n",
       "      <td>...</td>\n",
       "      <td>...</td>\n",
       "      <td>...</td>\n",
       "      <td>...</td>\n",
       "      <td>...</td>\n",
       "      <td>...</td>\n",
       "      <td>...</td>\n",
       "      <td>...</td>\n",
       "      <td>...</td>\n",
       "      <td>...</td>\n",
       "      <td>...</td>\n",
       "      <td>...</td>\n",
       "    </tr>\n",
       "    <tr>\n",
       "      <th>482</th>\n",
       "      <td>-0.533817</td>\n",
       "      <td>0.841886</td>\n",
       "      <td>0.660741</td>\n",
       "      <td>-0.315155</td>\n",
       "      <td>0.698379</td>\n",
       "      <td>-0.480885</td>\n",
       "      <td>-0.155834</td>\n",
       "      <td>0.279921</td>\n",
       "      <td>0.530640</td>\n",
       "      <td>0.040065</td>\n",
       "      <td>-1.283253</td>\n",
       "      <td>-0.423293</td>\n",
       "      <td>2.325488</td>\n",
       "      <td>-0.273962</td>\n",
       "    </tr>\n",
       "    <tr>\n",
       "      <th>483</th>\n",
       "      <td>-0.533817</td>\n",
       "      <td>-1.187809</td>\n",
       "      <td>0.660741</td>\n",
       "      <td>-0.315155</td>\n",
       "      <td>-0.115461</td>\n",
       "      <td>-0.480885</td>\n",
       "      <td>0.794567</td>\n",
       "      <td>0.279921</td>\n",
       "      <td>0.530640</td>\n",
       "      <td>-1.179418</td>\n",
       "      <td>0.779269</td>\n",
       "      <td>-0.423293</td>\n",
       "      <td>-0.430017</td>\n",
       "      <td>-0.273962</td>\n",
       "    </tr>\n",
       "    <tr>\n",
       "      <th>484</th>\n",
       "      <td>-0.533817</td>\n",
       "      <td>-1.187809</td>\n",
       "      <td>-1.513453</td>\n",
       "      <td>-0.315155</td>\n",
       "      <td>-0.157996</td>\n",
       "      <td>-0.480885</td>\n",
       "      <td>-0.859835</td>\n",
       "      <td>-4.457119</td>\n",
       "      <td>0.530640</td>\n",
       "      <td>-1.179418</td>\n",
       "      <td>0.779269</td>\n",
       "      <td>-0.423293</td>\n",
       "      <td>-0.430017</td>\n",
       "      <td>-0.273962</td>\n",
       "    </tr>\n",
       "    <tr>\n",
       "      <th>485</th>\n",
       "      <td>-0.533817</td>\n",
       "      <td>0.841886</td>\n",
       "      <td>-1.513453</td>\n",
       "      <td>-0.315155</td>\n",
       "      <td>0.332577</td>\n",
       "      <td>1.545456</td>\n",
       "      <td>1.181768</td>\n",
       "      <td>0.279921</td>\n",
       "      <td>0.530640</td>\n",
       "      <td>1.259548</td>\n",
       "      <td>-1.283253</td>\n",
       "      <td>2.362431</td>\n",
       "      <td>-0.430017</td>\n",
       "      <td>-0.273962</td>\n",
       "    </tr>\n",
       "    <tr>\n",
       "      <th>486</th>\n",
       "      <td>-0.533817</td>\n",
       "      <td>0.841886</td>\n",
       "      <td>0.660741</td>\n",
       "      <td>-0.315155</td>\n",
       "      <td>-0.501822</td>\n",
       "      <td>0.234564</td>\n",
       "      <td>0.970567</td>\n",
       "      <td>0.279921</td>\n",
       "      <td>-1.884516</td>\n",
       "      <td>-1.179418</td>\n",
       "      <td>-1.283253</td>\n",
       "      <td>-0.423293</td>\n",
       "      <td>2.325488</td>\n",
       "      <td>-0.273962</td>\n",
       "    </tr>\n",
       "  </tbody>\n",
       "</table>\n",
       "<p>487 rows × 14 columns</p>\n",
       "</div>"
      ],
      "text/plain": [
       "       Gender   Married  Education  Self_Employed  ApplicantIncome  \\\n",
       "0   -0.533817  0.841886   0.660741      -0.315155         0.710431   \n",
       "1   -0.533817  0.841886   0.660741       3.173040        -0.411789   \n",
       "2   -0.533817  0.841886  -1.513453      -0.315155        -0.707409   \n",
       "3   -0.533817 -1.187809   0.660741      -0.315155         1.714970   \n",
       "4   -0.533817  0.841886  -1.513453      -0.315155        -0.884639   \n",
       "..        ...       ...        ...            ...              ...   \n",
       "482 -0.533817  0.841886   0.660741      -0.315155         0.698379   \n",
       "483 -0.533817 -1.187809   0.660741      -0.315155        -0.115461   \n",
       "484 -0.533817 -1.187809  -1.513453      -0.315155        -0.157996   \n",
       "485 -0.533817  0.841886  -1.513453      -0.315155         0.332577   \n",
       "486 -0.533817  0.841886   0.660741      -0.315155        -0.501822   \n",
       "\n",
       "     CoapplicantIncome  LoanAmount  Loan_Amount_Term  Credit_History  \\\n",
       "0             0.095449    0.829767          0.279921        0.530640   \n",
       "1            -0.480885   -1.352636          0.279921        0.530640   \n",
       "2             0.420306    0.548167          0.279921        0.530640   \n",
       "3            -0.480885    1.287368          0.279921        0.530640   \n",
       "4             0.098506   -0.331835          0.279921        0.530640   \n",
       "..                 ...         ...               ...             ...   \n",
       "482          -0.480885   -0.155834          0.279921        0.530640   \n",
       "483          -0.480885    0.794567          0.279921        0.530640   \n",
       "484          -0.480885   -0.859835         -4.457119        0.530640   \n",
       "485           1.545456    1.181768          0.279921        0.530640   \n",
       "486           0.234564    0.970567          0.279921       -1.884516   \n",
       "\n",
       "     Property_Area  Dependents_0  Dependents_1  Dependents_2  Dependents_3+  \n",
       "0         1.259548     -1.283253      2.362431     -0.430017      -0.273962  \n",
       "1         0.040065      0.779269     -0.423293     -0.430017      -0.273962  \n",
       "2         0.040065      0.779269     -0.423293     -0.430017      -0.273962  \n",
       "3         0.040065      0.779269     -0.423293     -0.430017      -0.273962  \n",
       "4         0.040065      0.779269     -0.423293     -0.430017      -0.273962  \n",
       "..             ...           ...           ...           ...            ...  \n",
       "482       0.040065     -1.283253     -0.423293      2.325488      -0.273962  \n",
       "483      -1.179418      0.779269     -0.423293     -0.430017      -0.273962  \n",
       "484      -1.179418      0.779269     -0.423293     -0.430017      -0.273962  \n",
       "485       1.259548     -1.283253      2.362431     -0.430017      -0.273962  \n",
       "486      -1.179418     -1.283253     -0.423293      2.325488      -0.273962  \n",
       "\n",
       "[487 rows x 14 columns]"
      ]
     },
     "execution_count": 67,
     "metadata": {},
     "output_type": "execute_result"
    }
   ],
   "source": [
    "std_scalar = StandardScaler()\n",
    "\n",
    "array = std_scalar.fit_transform(x_sample)\n",
    "\n",
    "x_std_df = pd.DataFrame(array, columns=x_sample.columns)\n",
    "x_std_df"
   ]
  },
  {
   "cell_type": "code",
   "execution_count": 68,
   "id": "ecf6baa1",
   "metadata": {},
   "outputs": [],
   "source": [
    "# For Standardization\n",
    "x = x_std_df.copy()\n",
    "y = y_sample\n",
    "\n",
    "x_train, x_test, y_train, y_test = train_test_split(x, y, test_size=0.2, random_state=1, stratify=y)\n"
   ]
  },
  {
   "cell_type": "code",
   "execution_count": 69,
   "id": "80ab7ae7",
   "metadata": {},
   "outputs": [
    {
     "name": "stdout",
     "output_type": "stream",
     "text": [
      "0.8020565552699229\n",
      "\n",
      "              precision    recall  f1-score   support\n",
      "\n",
      "           0       0.65      0.88      0.74       128\n",
      "           1       0.93      0.77      0.84       261\n",
      "\n",
      "    accuracy                           0.80       389\n",
      "   macro avg       0.79      0.82      0.79       389\n",
      "weighted avg       0.83      0.80      0.81       389\n",
      "\n"
     ]
    },
    {
     "data": {
      "image/png": "[encoded data removed]",
      "text/plain": [
       "<Figure size 640x480 with 2 Axes>"
      ]
     },
     "metadata": {},
     "output_type": "display_data"
    }
   ],
   "source": [
    "logistic_model = LogisticRegression()\n",
    "logistic_model.fit(x_train,y_train)\n",
    "model_details.append(\"logistic_regression with std_scalar\")\n",
    "\n",
    "y_pred_train = logistic_model.predict(x_train)\n",
    "\n",
    "plot_confusion_matrix(logistic_model,x_train,y_train)\n",
    "\n",
    "accuracy =  accuracy_score(y_pred_train,y_train)\n",
    "\n",
    "clf_report = classification_report(y_pred_train,y_train)\n",
    "\n",
    "\n",
    "print(accuracy)\n",
    "print()\n",
    "print(clf_report)\n",
    "\n",
    "training_accuracy_list.append(accuracy)\n"
   ]
  },
  {
   "cell_type": "code",
   "execution_count": 70,
   "id": "c7f57ea2",
   "metadata": {},
   "outputs": [
    {
     "name": "stdout",
     "output_type": "stream",
     "text": [
      "0.7551020408163265\n",
      "\n",
      "              precision    recall  f1-score   support\n",
      "\n",
      "           0       0.56      0.83      0.67        29\n",
      "           1       0.91      0.72      0.81        69\n",
      "\n",
      "    accuracy                           0.76        98\n",
      "   macro avg       0.73      0.78      0.74        98\n",
      "weighted avg       0.81      0.76      0.77        98\n",
      "\n"
     ]
    },
    {
     "data": {
      "image/png": "[encoded data removed]",
      "text/plain": [
       "<Figure size 640x480 with 2 Axes>"
      ]
     },
     "metadata": {},
     "output_type": "display_data"
    }
   ],
   "source": [
    "y_pred_test = logistic_model.predict(x_test)\n",
    "\n",
    "plot_confusion_matrix(logistic_model,x_test,y_test)\n",
    "\n",
    "accuracy =  accuracy_score(y_pred_test,y_test)\n",
    "\n",
    "clf_report = classification_report(y_pred_test,y_test)\n",
    "\n",
    "\n",
    "\n",
    "print(accuracy)\n",
    "print()\n",
    "print(clf_report)\n",
    "\n",
    "testing_accuracy_list.append(accuracy)"
   ]
  },
  {
   "cell_type": "code",
   "execution_count": null,
   "id": "81f89bab",
   "metadata": {},
   "outputs": [],
   "source": []
  },
  {
   "cell_type": "code",
   "execution_count": null,
   "id": "5b6495b5",
   "metadata": {},
   "outputs": [],
   "source": []
  },
  {
   "cell_type": "code",
   "execution_count": 71,
   "id": "91343866",
   "metadata": {},
   "outputs": [
    {
     "data": {
      "text/plain": [
       "DecisionTreeClassifier(random_state=11)"
      ]
     },
     "execution_count": 71,
     "metadata": {},
     "output_type": "execute_result"
    }
   ],
   "source": [
    "dt_clf = DecisionTreeClassifier(random_state=11)\n",
    "dt_clf.fit(x_train, y_train)"
   ]
  },
  {
   "cell_type": "code",
   "execution_count": 72,
   "id": "4da9b383",
   "metadata": {},
   "outputs": [
    {
     "name": "stdout",
     "output_type": "stream",
     "text": [
      "1.0\n",
      "\n",
      "              precision    recall  f1-score   support\n",
      "\n",
      "           0       1.00      1.00      1.00       173\n",
      "           1       1.00      1.00      1.00       216\n",
      "\n",
      "    accuracy                           1.00       389\n",
      "   macro avg       1.00      1.00      1.00       389\n",
      "weighted avg       1.00      1.00      1.00       389\n",
      "\n"
     ]
    },
    {
     "data": {
      "image/png": "[encoded data removed]",
      "text/plain": [
       "<Figure size 640x480 with 2 Axes>"
      ]
     },
     "metadata": {},
     "output_type": "display_data"
    }
   ],
   "source": [
    "model_details.append(\"Decision_Tree with std_scalar\")\n",
    "\n",
    "y_pred_train = dt_clf.predict(x_train)\n",
    "\n",
    "plot_confusion_matrix(dt_clf,x_train,y_train)\n",
    "\n",
    "accuracy =  accuracy_score(y_pred_train,y_train)\n",
    "\n",
    "clf_report = classification_report(y_pred_train,y_train)\n",
    "\n",
    "\n",
    "print(accuracy)\n",
    "print()\n",
    "print(clf_report)\n",
    "\n",
    "training_accuracy_list.append(accuracy)"
   ]
  },
  {
   "cell_type": "code",
   "execution_count": 73,
   "id": "3d85e58b",
   "metadata": {},
   "outputs": [
    {
     "name": "stdout",
     "output_type": "stream",
     "text": [
      "0.8571428571428571\n",
      "\n",
      "              precision    recall  f1-score   support\n",
      "\n",
      "           0       0.88      0.81      0.84        47\n",
      "           1       0.84      0.90      0.87        51\n",
      "\n",
      "    accuracy                           0.86        98\n",
      "   macro avg       0.86      0.86      0.86        98\n",
      "weighted avg       0.86      0.86      0.86        98\n",
      "\n"
     ]
    },
    {
     "data": {
      "image/png": "[encoded data removed]",
      "text/plain": [
       "<Figure size 640x480 with 2 Axes>"
      ]
     },
     "metadata": {},
     "output_type": "display_data"
    }
   ],
   "source": [
    "y_pred_test = dt_clf.predict(x_test)\n",
    "\n",
    "plot_confusion_matrix(dt_clf,x_test,y_test)\n",
    "\n",
    "accuracy =  accuracy_score(y_pred_test,y_test)\n",
    "\n",
    "clf_report = classification_report(y_pred_test,y_test)\n",
    "\n",
    "\n",
    "\n",
    "print(accuracy)\n",
    "print()\n",
    "print(clf_report)\n",
    "\n",
    "testing_accuracy_list.append(accuracy)"
   ]
  },
  {
   "cell_type": "code",
   "execution_count": null,
   "id": "87c9d58e",
   "metadata": {},
   "outputs": [],
   "source": []
  },
  {
   "cell_type": "code",
   "execution_count": 74,
   "id": "f64ea38c",
   "metadata": {},
   "outputs": [
    {
     "name": "stdout",
     "output_type": "stream",
     "text": [
      "Required Time : 7.073519229888916 sec\n"
     ]
    }
   ],
   "source": [
    "import time\n",
    "t1 = time.time()\n",
    "\n",
    "dt_model = DecisionTreeClassifier(random_state=11)\n",
    "\n",
    "hyperparameter = {\"criterion\":['gini', 'entropy'], \n",
    "                 \"max_depth\": np.arange(3,8),\n",
    "                 \"min_samples_split\": np.arange(2,20),\n",
    "                 \"min_samples_leaf\": np.arange(2,15)}  \n",
    "gscv_dt_clf = GridSearchCV(dt_model, hyperparameter, cv=5,n_jobs=-1)\n",
    "gscv_dt_clf.fit(x_train, y_train)\n",
    "\n",
    "t2 = time.time()\n",
    "print(\"Required Time :\", t2-t1, \"sec\")\n",
    "\n",
    "model_details.append(\"Decision_Tree Hyperparameter tuning with std_scalar\")\n"
   ]
  },
  {
   "cell_type": "code",
   "execution_count": 75,
   "id": "845bf30d",
   "metadata": {},
   "outputs": [
    {
     "name": "stdout",
     "output_type": "stream",
     "text": [
      "0.8611825192802056\n",
      "\n",
      "              precision    recall  f1-score   support\n",
      "\n",
      "           0       0.80      0.88      0.84       157\n",
      "           1       0.91      0.85      0.88       232\n",
      "\n",
      "    accuracy                           0.86       389\n",
      "   macro avg       0.85      0.86      0.86       389\n",
      "weighted avg       0.87      0.86      0.86       389\n",
      "\n"
     ]
    },
    {
     "data": {
      "image/png": "[encoded data removed]",
      "text/plain": [
       "<Figure size 640x480 with 2 Axes>"
      ]
     },
     "metadata": {},
     "output_type": "display_data"
    }
   ],
   "source": [
    "y_pred_train = gscv_dt_clf.predict(x_train)\n",
    "\n",
    "plot_confusion_matrix(gscv_dt_clf,x_train,y_train)\n",
    "\n",
    "accuracy =  accuracy_score(y_pred_train,y_train)\n",
    "\n",
    "clf_report = classification_report(y_pred_train,y_train)\n",
    "\n",
    "\n",
    "print(accuracy)\n",
    "print()\n",
    "print(clf_report)\n",
    "\n",
    "training_accuracy_list.append(accuracy)"
   ]
  },
  {
   "cell_type": "code",
   "execution_count": 76,
   "id": "bc146005",
   "metadata": {},
   "outputs": [
    {
     "name": "stdout",
     "output_type": "stream",
     "text": [
      "0.8061224489795918\n",
      "\n",
      "              precision    recall  f1-score   support\n",
      "\n",
      "           0       0.72      0.82      0.77        38\n",
      "           1       0.87      0.80      0.83        60\n",
      "\n",
      "    accuracy                           0.81        98\n",
      "   macro avg       0.80      0.81      0.80        98\n",
      "weighted avg       0.81      0.81      0.81        98\n",
      "\n"
     ]
    },
    {
     "data": {
      "image/png": "[encoded data removed]",
      "text/plain": [
       "<Figure size 640x480 with 2 Axes>"
      ]
     },
     "metadata": {},
     "output_type": "display_data"
    }
   ],
   "source": [
    "# testing accuracy\n",
    "\n",
    "y_pred_test = gscv_dt_clf.predict(x_test)\n",
    "\n",
    "plot_confusion_matrix(gscv_dt_clf,x_test,y_test)\n",
    "\n",
    "accuracy =  accuracy_score(y_pred_test,y_test)\n",
    "\n",
    "clf_report = classification_report(y_pred_test,y_test)\n",
    "\n",
    "\n",
    "print(accuracy)\n",
    "print()\n",
    "print(clf_report)\n",
    "\n",
    "testing_accuracy_list.append(accuracy)"
   ]
  },
  {
   "cell_type": "code",
   "execution_count": null,
   "id": "cacd3ee2",
   "metadata": {},
   "outputs": [],
   "source": []
  },
  {
   "cell_type": "code",
   "execution_count": 77,
   "id": "4a7a6e1c",
   "metadata": {},
   "outputs": [],
   "source": [
    "rf_clf = RandomForestClassifier(random_state=10)\n",
    "rf_clf.fit(x_train, y_train)\n",
    "model_details.append(\"Random Forest with std_scalar\")"
   ]
  },
  {
   "cell_type": "code",
   "execution_count": 78,
   "id": "c9d6de37",
   "metadata": {},
   "outputs": [
    {
     "name": "stdout",
     "output_type": "stream",
     "text": [
      "1.0\n",
      "\n",
      "              precision    recall  f1-score   support\n",
      "\n",
      "           0       1.00      1.00      1.00       173\n",
      "           1       1.00      1.00      1.00       216\n",
      "\n",
      "    accuracy                           1.00       389\n",
      "   macro avg       1.00      1.00      1.00       389\n",
      "weighted avg       1.00      1.00      1.00       389\n",
      "\n"
     ]
    },
    {
     "data": {
      "image/png": "[encoded data removed]",
      "text/plain": [
       "<Figure size 640x480 with 2 Axes>"
      ]
     },
     "metadata": {},
     "output_type": "display_data"
    }
   ],
   "source": [
    "y_pred_train = rf_clf.predict(x_train)\n",
    "\n",
    "plot_confusion_matrix(rf_clf,x_train,y_train)\n",
    "\n",
    "accuracy =  accuracy_score(y_pred_train,y_train)\n",
    "\n",
    "clf_report = classification_report(y_pred_train,y_train)\n",
    "\n",
    "\n",
    "print(accuracy)\n",
    "print()\n",
    "print(clf_report)\n",
    "\n",
    "training_accuracy_list.append(accuracy)"
   ]
  },
  {
   "cell_type": "code",
   "execution_count": 79,
   "id": "731b7bea",
   "metadata": {},
   "outputs": [
    {
     "name": "stdout",
     "output_type": "stream",
     "text": [
      "0.8979591836734694\n",
      "\n",
      "              precision    recall  f1-score   support\n",
      "\n",
      "           0       0.88      0.88      0.88        43\n",
      "           1       0.91      0.91      0.91        55\n",
      "\n",
      "    accuracy                           0.90        98\n",
      "   macro avg       0.90      0.90      0.90        98\n",
      "weighted avg       0.90      0.90      0.90        98\n",
      "\n"
     ]
    },
    {
     "data": {
      "image/png": "[encoded data removed]",
      "text/plain": [
       "<Figure size 640x480 with 2 Axes>"
      ]
     },
     "metadata": {},
     "output_type": "display_data"
    }
   ],
   "source": [
    "# testing accuracy\n",
    "\n",
    "y_pred_test = rf_clf.predict(x_test)\n",
    "\n",
    "plot_confusion_matrix(rf_clf,x_test,y_test)\n",
    "\n",
    "accuracy =  accuracy_score(y_pred_test,y_test)\n",
    "\n",
    "clf_report = classification_report(y_pred_test,y_test)\n",
    "\n",
    "\n",
    "print(accuracy)\n",
    "print()\n",
    "print(clf_report)\n",
    "\n",
    "testing_accuracy_list.append(accuracy)"
   ]
  },
  {
   "cell_type": "code",
   "execution_count": 80,
   "id": "9ed744bb",
   "metadata": {},
   "outputs": [],
   "source": [
    "rf_model = RandomForestClassifier(random_state=10)\n",
    "\n",
    "param_grid = {\n",
    "                \"n_estimators\": np.arange(10,200),\n",
    "                \"criterion\" : ['gini', 'entropy'],\n",
    "                \"max_depth\" : np.arange(3,8),\n",
    "                \"min_samples_split\" : np.arange(4,20),\n",
    "                \"min_samples_leaf\": np.arange(3,10),\n",
    "                \"max_features\" : ['sqrt', 'log2'],\n",
    "                \"oob_score\" : [True]}\n",
    "\n",
    "gscv_rf_model = RandomizedSearchCV(rf_model, param_grid, cv = 5)\n",
    "gscv_rf_model.fit(x_train, y_train)\n",
    "\n",
    "model_details.append(\"Random _Forest Hyperparameter tuning with std_scalar\")\n"
   ]
  },
  {
   "cell_type": "code",
   "execution_count": 81,
   "id": "effaef7e",
   "metadata": {},
   "outputs": [
    {
     "name": "stdout",
     "output_type": "stream",
     "text": [
      "0.8817480719794345\n",
      "\n",
      "              precision    recall  f1-score   support\n",
      "\n",
      "           0       0.75      0.98      0.85       133\n",
      "           1       0.99      0.83      0.90       256\n",
      "\n",
      "    accuracy                           0.88       389\n",
      "   macro avg       0.87      0.90      0.88       389\n",
      "weighted avg       0.91      0.88      0.88       389\n",
      "\n"
     ]
    },
    {
     "data": {
      "image/png": "[encoded data removed]",
      "text/plain": [
       "<Figure size 640x480 with 2 Axes>"
      ]
     },
     "metadata": {},
     "output_type": "display_data"
    }
   ],
   "source": [
    "# Training Accuracy\n",
    "\n",
    "\n",
    "y_pred_train = gscv_rf_model.predict(x_train)\n",
    "\n",
    "plot_confusion_matrix(gscv_rf_model,x_train,y_train)\n",
    "\n",
    "accuracy =  accuracy_score(y_pred_train,y_train)\n",
    "\n",
    "clf_report = classification_report(y_pred_train,y_train)\n",
    "\n",
    "\n",
    "print(accuracy)\n",
    "print()\n",
    "print(clf_report)\n",
    "\n",
    "training_accuracy_list.append(accuracy)"
   ]
  },
  {
   "cell_type": "code",
   "execution_count": 82,
   "id": "dfca5578",
   "metadata": {},
   "outputs": [
    {
     "name": "stdout",
     "output_type": "stream",
     "text": [
      "0.8163265306122449\n",
      "\n",
      "              precision    recall  f1-score   support\n",
      "\n",
      "           0       0.67      0.88      0.76        33\n",
      "           1       0.93      0.78      0.85        65\n",
      "\n",
      "    accuracy                           0.82        98\n",
      "   macro avg       0.80      0.83      0.81        98\n",
      "weighted avg       0.84      0.82      0.82        98\n",
      "\n"
     ]
    },
    {
     "data": {
      "image/png": "[encoded data removed]",
      "text/plain": [
       "<Figure size 640x480 with 2 Axes>"
      ]
     },
     "metadata": {},
     "output_type": "display_data"
    }
   ],
   "source": [
    "#testing accuracy\n",
    "\n",
    "y_pred_test = gscv_rf_model.predict(x_test)\n",
    "\n",
    "plot_confusion_matrix(gscv_rf_model,x_test,y_test)\n",
    "\n",
    "accuracy =  accuracy_score(y_pred_test,y_test)\n",
    "\n",
    "clf_report = classification_report(y_pred_test,y_test)\n",
    "\n",
    "\n",
    "print(accuracy)\n",
    "print()\n",
    "print(clf_report)\n",
    "\n",
    "testing_accuracy_list.append(accuracy)"
   ]
  },
  {
   "cell_type": "code",
   "execution_count": null,
   "id": "5de0f9b4",
   "metadata": {},
   "outputs": [],
   "source": []
  },
  {
   "cell_type": "code",
   "execution_count": 83,
   "id": "d45dd9ed",
   "metadata": {},
   "outputs": [],
   "source": [
    "adb_clf = AdaBoostClassifier(random_state=30)\n",
    "adb_clf.fit(x_train, y_train)\n",
    "\n",
    "model_details.append(\"AdaBost with std_scalar\")"
   ]
  },
  {
   "cell_type": "code",
   "execution_count": 84,
   "id": "fd5790f4",
   "metadata": {},
   "outputs": [
    {
     "name": "stdout",
     "output_type": "stream",
     "text": [
      "0.8946015424164524\n",
      "\n",
      "              precision    recall  f1-score   support\n",
      "\n",
      "           0       0.83      0.93      0.87       154\n",
      "           1       0.95      0.87      0.91       235\n",
      "\n",
      "    accuracy                           0.89       389\n",
      "   macro avg       0.89      0.90      0.89       389\n",
      "weighted avg       0.90      0.89      0.90       389\n",
      "\n"
     ]
    },
    {
     "data": {
      "image/png": "[encoded data removed]",
      "text/plain": [
       "<Figure size 640x480 with 2 Axes>"
      ]
     },
     "metadata": {},
     "output_type": "display_data"
    }
   ],
   "source": [
    "y_pred_train = adb_clf.predict(x_train)\n",
    "\n",
    "plot_confusion_matrix(adb_clf,x_train,y_train)\n",
    "\n",
    "accuracy =  accuracy_score(y_pred_train,y_train)\n",
    "\n",
    "clf_report = classification_report(y_pred_train,y_train)\n",
    "\n",
    "\n",
    "print(accuracy)\n",
    "print()\n",
    "print(clf_report)\n",
    "\n",
    "training_accuracy_list.append(accuracy)"
   ]
  },
  {
   "cell_type": "code",
   "execution_count": 85,
   "id": "077693fa",
   "metadata": {},
   "outputs": [
    {
     "name": "stdout",
     "output_type": "stream",
     "text": [
      "0.8367346938775511\n",
      "\n",
      "              precision    recall  f1-score   support\n",
      "\n",
      "           0       0.81      0.81      0.81        43\n",
      "           1       0.85      0.85      0.85        55\n",
      "\n",
      "    accuracy                           0.84        98\n",
      "   macro avg       0.83      0.83      0.83        98\n",
      "weighted avg       0.84      0.84      0.84        98\n",
      "\n"
     ]
    },
    {
     "data": {
      "image/png": "[encoded data removed]",
      "text/plain": [
       "<Figure size 640x480 with 2 Axes>"
      ]
     },
     "metadata": {},
     "output_type": "display_data"
    }
   ],
   "source": [
    "y_pred_test = adb_clf.predict(x_test)\n",
    "\n",
    "plot_confusion_matrix(adb_clf,x_test,y_test)\n",
    "\n",
    "accuracy =  accuracy_score(y_pred_test,y_test)\n",
    "\n",
    "clf_report = classification_report(y_pred_test,y_test)\n",
    "\n",
    "\n",
    "print(accuracy)\n",
    "print()\n",
    "print(clf_report)\n",
    "\n",
    "testing_accuracy_list.append(accuracy)"
   ]
  },
  {
   "cell_type": "code",
   "execution_count": null,
   "id": "9165e8b7",
   "metadata": {},
   "outputs": [],
   "source": []
  },
  {
   "cell_type": "code",
   "execution_count": 86,
   "id": "032f9b75",
   "metadata": {},
   "outputs": [],
   "source": [
    "adb_clf = AdaBoostClassifier(random_state=30)\n",
    "\n",
    "param_grid = {\n",
    "            \"n_estimators\" : np.arange(10,200,2),\n",
    "            \"learning_rate\" : np.arange(0,2,0.001)\n",
    "                }\n",
    "\n",
    "gscv_adb_clf = RandomizedSearchCV(adb_clf, param_grid, cv=7)\n",
    "gscv_adb_clf.fit(x_train, y_train)\n",
    "gscv_adb_clf.best_estimator_\n",
    "model_details.append(\"AdaBost_hyperparameter_tuning with std_scalar\")"
   ]
  },
  {
   "cell_type": "code",
   "execution_count": 87,
   "id": "d6dedbdb",
   "metadata": {},
   "outputs": [
    {
     "name": "stdout",
     "output_type": "stream",
     "text": [
      "0.9562982005141388\n",
      "\n",
      "              precision    recall  f1-score   support\n",
      "\n",
      "           0       0.94      0.96      0.95       170\n",
      "           1       0.97      0.95      0.96       219\n",
      "\n",
      "    accuracy                           0.96       389\n",
      "   macro avg       0.95      0.96      0.96       389\n",
      "weighted avg       0.96      0.96      0.96       389\n",
      "\n"
     ]
    },
    {
     "data": {
      "image/png": "[encoded data removed]",
      "text/plain": [
       "<Figure size 640x480 with 2 Axes>"
      ]
     },
     "metadata": {},
     "output_type": "display_data"
    }
   ],
   "source": [
    "y_pred_train = gscv_adb_clf.predict(x_train)\n",
    "\n",
    "plot_confusion_matrix(gscv_adb_clf,x_train,y_train)\n",
    "\n",
    "accuracy =  accuracy_score(y_pred_train,y_train)\n",
    "\n",
    "clf_report = classification_report(y_pred_train,y_train)\n",
    "\n",
    "\n",
    "print(accuracy)\n",
    "print()\n",
    "print(clf_report)\n",
    "\n",
    "training_accuracy_list.append(accuracy)"
   ]
  },
  {
   "cell_type": "code",
   "execution_count": 88,
   "id": "16dea510",
   "metadata": {},
   "outputs": [
    {
     "name": "stdout",
     "output_type": "stream",
     "text": [
      "0.8163265306122449\n",
      "\n",
      "              precision    recall  f1-score   support\n",
      "\n",
      "           0       0.81      0.78      0.80        45\n",
      "           1       0.82      0.85      0.83        53\n",
      "\n",
      "    accuracy                           0.82        98\n",
      "   macro avg       0.82      0.81      0.81        98\n",
      "weighted avg       0.82      0.82      0.82        98\n",
      "\n"
     ]
    },
    {
     "data": {
      "image/png": "[encoded data removed]",
      "text/plain": [
       "<Figure size 640x480 with 2 Axes>"
      ]
     },
     "metadata": {},
     "output_type": "display_data"
    }
   ],
   "source": [
    "y_pred_test = gscv_adb_clf.predict(x_test)\n",
    "\n",
    "plot_confusion_matrix(gscv_adb_clf,x_test,y_test)\n",
    "\n",
    "accuracy =  accuracy_score(y_pred_test,y_test)\n",
    "\n",
    "clf_report = classification_report(y_pred_test,y_test)\n",
    "\n",
    "\n",
    "print(accuracy)\n",
    "print()\n",
    "print(clf_report)\n",
    "\n",
    "testing_accuracy_list.append(accuracy)"
   ]
  },
  {
   "cell_type": "code",
   "execution_count": 89,
   "id": "195121b3",
   "metadata": {},
   "outputs": [
    {
     "data": {
      "text/plain": [
       "Index(['Gender', 'Married', 'Education', 'Self_Employed', 'ApplicantIncome',\n",
       "       'CoapplicantIncome', 'LoanAmount', 'Loan_Amount_Term', 'Credit_History',\n",
       "       'Property_Area', 'Dependents_0', 'Dependents_1', 'Dependents_2',\n",
       "       'Dependents_3+'],\n",
       "      dtype='object')"
      ]
     },
     "execution_count": 89,
     "metadata": {},
     "output_type": "execute_result"
    }
   ],
   "source": [
    "column_names = x.columns\n",
    "column_names"
   ]
  },
  {
   "cell_type": "code",
   "execution_count": null,
   "id": "fc4038fa",
   "metadata": {},
   "outputs": [],
   "source": []
  },
  {
   "cell_type": "markdown",
   "id": "20c0c582",
   "metadata": {},
   "source": [
    "### knn on standardized data"
   ]
  },
  {
   "cell_type": "code",
   "execution_count": 90,
   "id": "1bb78a4c",
   "metadata": {},
   "outputs": [],
   "source": [
    "knn_clf = KNeighborsClassifier()\n",
    "knn_clf.fit(x_train, y_train)\n",
    "\n",
    "model_details.append(\"knn_with std_scalar\")"
   ]
  },
  {
   "cell_type": "code",
   "execution_count": 91,
   "id": "d92ece31",
   "metadata": {},
   "outputs": [
    {
     "name": "stdout",
     "output_type": "stream",
     "text": [
      "0.8688946015424165\n",
      "\n",
      "              precision    recall  f1-score   support\n",
      "\n",
      "           0       0.81      0.89      0.85       158\n",
      "           1       0.92      0.86      0.89       231\n",
      "\n",
      "    accuracy                           0.87       389\n",
      "   macro avg       0.86      0.87      0.87       389\n",
      "weighted avg       0.87      0.87      0.87       389\n",
      "\n"
     ]
    },
    {
     "data": {
      "image/png": "[encoded data removed]",
      "text/plain": [
       "<Figure size 640x480 with 2 Axes>"
      ]
     },
     "metadata": {},
     "output_type": "display_data"
    }
   ],
   "source": [
    "# Training Accuracy\n",
    "\n",
    "y_pred_train = knn_clf.predict(x_train)\n",
    "\n",
    "plot_confusion_matrix(knn_clf,x_train,y_train)\n",
    "\n",
    "accuracy =  accuracy_score(y_pred_train,y_train)\n",
    "\n",
    "clf_report = classification_report(y_pred_train,y_train)\n",
    "\n",
    "\n",
    "print(accuracy)\n",
    "print()\n",
    "print(clf_report)\n",
    "\n",
    "training_accuracy_list.append(accuracy)"
   ]
  },
  {
   "cell_type": "code",
   "execution_count": 92,
   "id": "ecea8ca0",
   "metadata": {},
   "outputs": [
    {
     "name": "stdout",
     "output_type": "stream",
     "text": [
      "0.7959183673469388\n",
      "\n",
      "              precision    recall  f1-score   support\n",
      "\n",
      "           0       0.77      0.77      0.77        43\n",
      "           1       0.82      0.82      0.82        55\n",
      "\n",
      "    accuracy                           0.80        98\n",
      "   macro avg       0.79      0.79      0.79        98\n",
      "weighted avg       0.80      0.80      0.80        98\n",
      "\n"
     ]
    },
    {
     "data": {
      "image/png": "[encoded data removed]",
      "text/plain": [
       "<Figure size 640x480 with 2 Axes>"
      ]
     },
     "metadata": {},
     "output_type": "display_data"
    }
   ],
   "source": [
    "# testing accuracy\n",
    "\n",
    "y_pred_test = knn_clf.predict(x_test)\n",
    "\n",
    "plot_confusion_matrix(knn_clf,x_test,y_test)\n",
    "\n",
    "accuracy =  accuracy_score(y_pred_test,y_test)\n",
    "\n",
    "clf_report = classification_report(y_pred_test,y_test)\n",
    "\n",
    "\n",
    "print(accuracy)\n",
    "print()\n",
    "print(clf_report)\n",
    "\n",
    "testing_accuracy_list.append(accuracy)"
   ]
  },
  {
   "cell_type": "markdown",
   "id": "1b8f6b44",
   "metadata": {},
   "source": [
    "### Knn(standardiztion) With Hyperparameter tunning"
   ]
  },
  {
   "cell_type": "code",
   "execution_count": 93,
   "id": "f7fce43e",
   "metadata": {},
   "outputs": [],
   "source": [
    "knn_clf = KNeighborsClassifier()\n",
    "\n",
    "param_grid = {\"n_neighbors\" : np.arange(3,30),\n",
    "                  \"p\": [1,2]}\n",
    "#              \"cv\": np.arange(5,10)} # Param_grid\n",
    "\n",
    "gscv_knn_clf = GridSearchCV(knn_clf, param_grid, cv = 5 , n_jobs = -1)  # cv=5\n",
    "gscv_knn_clf.fit(x_train, y_train) \n",
    "gscv_knn_clf.best_estimator_\n",
    "\n",
    "model_details.append(\"knn(standardization)with_Hyperparameter Tuning\")"
   ]
  },
  {
   "cell_type": "code",
   "execution_count": 94,
   "id": "ba6431e2",
   "metadata": {},
   "outputs": [
    {
     "name": "stdout",
     "output_type": "stream",
     "text": [
      "0.87146529562982\n",
      "\n",
      "              precision    recall  f1-score   support\n",
      "\n",
      "           0       0.85      0.86      0.85       171\n",
      "           1       0.89      0.88      0.88       218\n",
      "\n",
      "    accuracy                           0.87       389\n",
      "   macro avg       0.87      0.87      0.87       389\n",
      "weighted avg       0.87      0.87      0.87       389\n",
      "\n"
     ]
    },
    {
     "data": {
      "image/png": "[encoded data removed]",
      "text/plain": [
       "<Figure size 640x480 with 2 Axes>"
      ]
     },
     "metadata": {},
     "output_type": "display_data"
    }
   ],
   "source": [
    "# Training Accuracy\n",
    "\n",
    "y_pred_train = gscv_knn_clf.predict(x_train)\n",
    "\n",
    "plot_confusion_matrix(gscv_knn_clf,x_train,y_train)\n",
    "\n",
    "accuracy =  accuracy_score(y_pred_train,y_train)\n",
    "\n",
    "clf_report = classification_report(y_pred_train,y_train)\n",
    "\n",
    "\n",
    "print(accuracy)\n",
    "print()\n",
    "print(clf_report)\n",
    "\n",
    "training_accuracy_list.append(accuracy)"
   ]
  },
  {
   "cell_type": "code",
   "execution_count": 95,
   "id": "89db6d41",
   "metadata": {},
   "outputs": [
    {
     "name": "stdout",
     "output_type": "stream",
     "text": [
      "0.8367346938775511\n",
      "\n",
      "              precision    recall  f1-score   support\n",
      "\n",
      "           0       0.86      0.79      0.82        47\n",
      "           1       0.82      0.88      0.85        51\n",
      "\n",
      "    accuracy                           0.84        98\n",
      "   macro avg       0.84      0.83      0.84        98\n",
      "weighted avg       0.84      0.84      0.84        98\n",
      "\n"
     ]
    },
    {
     "data": {
      "image/png": "[encoded data removed]",
      "text/plain": [
       "<Figure size 640x480 with 2 Axes>"
      ]
     },
     "metadata": {},
     "output_type": "display_data"
    }
   ],
   "source": [
    "# testing accuracy\n",
    "\n",
    "y_pred_test = gscv_knn_clf.predict(x_test)\n",
    "\n",
    "plot_confusion_matrix(gscv_knn_clf,x_test,y_test)\n",
    "\n",
    "accuracy =  accuracy_score(y_pred_test,y_test)\n",
    "\n",
    "clf_report = classification_report(y_pred_test,y_test)\n",
    "\n",
    "\n",
    "print(accuracy)\n",
    "print()\n",
    "print(clf_report)\n",
    "\n",
    "testing_accuracy_list.append(accuracy)"
   ]
  },
  {
   "cell_type": "markdown",
   "id": "9b0ab40a",
   "metadata": {},
   "source": [
    "### overall comparision"
   ]
  },
  {
   "cell_type": "code",
   "execution_count": 96,
   "id": "8a8e3c94",
   "metadata": {},
   "outputs": [
    {
     "data": {
      "text/html": [
       "<div>\n",
       "<style scoped>\n",
       "    .dataframe tbody tr th:only-of-type {\n",
       "        vertical-align: middle;\n",
       "    }\n",
       "\n",
       "    .dataframe tbody tr th {\n",
       "        vertical-align: top;\n",
       "    }\n",
       "\n",
       "    .dataframe thead th {\n",
       "        text-align: right;\n",
       "    }\n",
       "</style>\n",
       "<table border=\"1\" class=\"dataframe\">\n",
       "  <thead>\n",
       "    <tr style=\"text-align: right;\">\n",
       "      <th></th>\n",
       "      <th>Models</th>\n",
       "      <th>Testing Accuracy</th>\n",
       "      <th>Training Accuracy</th>\n",
       "    </tr>\n",
       "  </thead>\n",
       "  <tbody>\n",
       "    <tr>\n",
       "      <th>0</th>\n",
       "      <td>logistic_regression_with_normal_scalar</td>\n",
       "      <td>0.765306</td>\n",
       "      <td>0.794344</td>\n",
       "    </tr>\n",
       "    <tr>\n",
       "      <th>1</th>\n",
       "      <td>Decision_Tree_normal_scalar</td>\n",
       "      <td>0.908163</td>\n",
       "      <td>1.000000</td>\n",
       "    </tr>\n",
       "    <tr>\n",
       "      <th>2</th>\n",
       "      <td>Decision_Tree_Hyperparameter tuning_with_norma...</td>\n",
       "      <td>0.826531</td>\n",
       "      <td>0.871465</td>\n",
       "    </tr>\n",
       "    <tr>\n",
       "      <th>3</th>\n",
       "      <td>Random Forest with normal_scalar</td>\n",
       "      <td>0.908163</td>\n",
       "      <td>1.000000</td>\n",
       "    </tr>\n",
       "    <tr>\n",
       "      <th>4</th>\n",
       "      <td>Random _Forest  Hyperparameter tuning with nor...</td>\n",
       "      <td>0.806122</td>\n",
       "      <td>0.861183</td>\n",
       "    </tr>\n",
       "    <tr>\n",
       "      <th>5</th>\n",
       "      <td>AdaBost with normal_scalar</td>\n",
       "      <td>0.806122</td>\n",
       "      <td>0.897172</td>\n",
       "    </tr>\n",
       "    <tr>\n",
       "      <th>6</th>\n",
       "      <td>AdaBost hyperparameter_tuning with normal_scalar</td>\n",
       "      <td>0.867347</td>\n",
       "      <td>0.976864</td>\n",
       "    </tr>\n",
       "    <tr>\n",
       "      <th>7</th>\n",
       "      <td>Knn_Normalization Model</td>\n",
       "      <td>0.755102</td>\n",
       "      <td>0.853470</td>\n",
       "    </tr>\n",
       "    <tr>\n",
       "      <th>8</th>\n",
       "      <td>knn_normalized_model_with_Hyperparameter Tuning</td>\n",
       "      <td>0.816327</td>\n",
       "      <td>0.925450</td>\n",
       "    </tr>\n",
       "    <tr>\n",
       "      <th>9</th>\n",
       "      <td>SVM with normal_scalar</td>\n",
       "      <td>0.765306</td>\n",
       "      <td>0.812339</td>\n",
       "    </tr>\n",
       "    <tr>\n",
       "      <th>10</th>\n",
       "      <td>logistic_regression with std_scalar</td>\n",
       "      <td>0.755102</td>\n",
       "      <td>0.802057</td>\n",
       "    </tr>\n",
       "    <tr>\n",
       "      <th>11</th>\n",
       "      <td>Decision_Tree with std_scalar</td>\n",
       "      <td>0.857143</td>\n",
       "      <td>1.000000</td>\n",
       "    </tr>\n",
       "    <tr>\n",
       "      <th>12</th>\n",
       "      <td>Decision_Tree Hyperparameter tuning with std_s...</td>\n",
       "      <td>0.806122</td>\n",
       "      <td>0.861183</td>\n",
       "    </tr>\n",
       "    <tr>\n",
       "      <th>13</th>\n",
       "      <td>Random Forest with std_scalar</td>\n",
       "      <td>0.897959</td>\n",
       "      <td>1.000000</td>\n",
       "    </tr>\n",
       "    <tr>\n",
       "      <th>14</th>\n",
       "      <td>Random _Forest Hyperparameter tuning with std_...</td>\n",
       "      <td>0.816327</td>\n",
       "      <td>0.881748</td>\n",
       "    </tr>\n",
       "    <tr>\n",
       "      <th>15</th>\n",
       "      <td>AdaBost with std_scalar</td>\n",
       "      <td>0.836735</td>\n",
       "      <td>0.894602</td>\n",
       "    </tr>\n",
       "    <tr>\n",
       "      <th>16</th>\n",
       "      <td>AdaBost_hyperparameter_tuning with std_scalar</td>\n",
       "      <td>0.816327</td>\n",
       "      <td>0.956298</td>\n",
       "    </tr>\n",
       "    <tr>\n",
       "      <th>17</th>\n",
       "      <td>knn_with std_scalar</td>\n",
       "      <td>0.795918</td>\n",
       "      <td>0.868895</td>\n",
       "    </tr>\n",
       "    <tr>\n",
       "      <th>18</th>\n",
       "      <td>knn(standardization)with_Hyperparameter Tuning</td>\n",
       "      <td>0.836735</td>\n",
       "      <td>0.871465</td>\n",
       "    </tr>\n",
       "  </tbody>\n",
       "</table>\n",
       "</div>"
      ],
      "text/plain": [
       "                                               Models  Testing Accuracy  \\\n",
       "0             logistic_regression_with_normal_scalar           0.765306   \n",
       "1                         Decision_Tree_normal_scalar          0.908163   \n",
       "2   Decision_Tree_Hyperparameter tuning_with_norma...          0.826531   \n",
       "3                   Random Forest with normal_scalar           0.908163   \n",
       "4   Random _Forest  Hyperparameter tuning with nor...          0.806122   \n",
       "5                         AdaBost with normal_scalar           0.806122   \n",
       "6   AdaBost hyperparameter_tuning with normal_scalar           0.867347   \n",
       "7                             Knn_Normalization Model          0.755102   \n",
       "8     knn_normalized_model_with_Hyperparameter Tuning          0.816327   \n",
       "9                             SVM with normal_scalar           0.765306   \n",
       "10                logistic_regression with std_scalar          0.755102   \n",
       "11                      Decision_Tree with std_scalar          0.857143   \n",
       "12  Decision_Tree Hyperparameter tuning with std_s...          0.806122   \n",
       "13                      Random Forest with std_scalar          0.897959   \n",
       "14  Random _Forest Hyperparameter tuning with std_...          0.816327   \n",
       "15                            AdaBost with std_scalar          0.836735   \n",
       "16      AdaBost_hyperparameter_tuning with std_scalar          0.816327   \n",
       "17                                knn_with std_scalar          0.795918   \n",
       "18     knn(standardization)with_Hyperparameter Tuning          0.836735   \n",
       "\n",
       "    Training Accuracy  \n",
       "0            0.794344  \n",
       "1            1.000000  \n",
       "2            0.871465  \n",
       "3            1.000000  \n",
       "4            0.861183  \n",
       "5            0.897172  \n",
       "6            0.976864  \n",
       "7            0.853470  \n",
       "8            0.925450  \n",
       "9            0.812339  \n",
       "10           0.802057  \n",
       "11           1.000000  \n",
       "12           0.861183  \n",
       "13           1.000000  \n",
       "14           0.881748  \n",
       "15           0.894602  \n",
       "16           0.956298  \n",
       "17           0.868895  \n",
       "18           0.871465  "
      ]
     },
     "execution_count": 96,
     "metadata": {},
     "output_type": "execute_result"
    }
   ],
   "source": [
    "comparison_df = pd.DataFrame({\"Models\": model_details, \"Testing Accuracy\": testing_accuracy_list, \"Training Accuracy\": training_accuracy_list})\n",
    "comparison_df"
   ]
  },
  {
   "cell_type": "code",
   "execution_count": null,
   "id": "9461dbaa",
   "metadata": {},
   "outputs": [],
   "source": []
  },
  {
   "cell_type": "markdown",
   "id": "b958381c",
   "metadata": {},
   "source": [
    "### saving model "
   ]
  },
  {
   "cell_type": "code",
   "execution_count": 97,
   "id": "b9cec017",
   "metadata": {},
   "outputs": [],
   "source": [
    "# creating pickle file of model"
   ]
  },
  {
   "cell_type": "code",
   "execution_count": 98,
   "id": "bb72bf14",
   "metadata": {},
   "outputs": [],
   "source": [
    "import pickle"
   ]
  },
  {
   "cell_type": "code",
   "execution_count": 99,
   "id": "c0bba979",
   "metadata": {},
   "outputs": [],
   "source": [
    "with open (\"rf_scaled_model.pkl\",\"wb\")as f:\n",
    "    pickle.dump(rf_clf,f)"
   ]
  },
  {
   "cell_type": "code",
   "execution_count": 100,
   "id": "c929a82d",
   "metadata": {},
   "outputs": [],
   "source": [
    "# creating json file "
   ]
  },
  {
   "cell_type": "code",
   "execution_count": 101,
   "id": "3c36b46c",
   "metadata": {},
   "outputs": [
    {
     "data": {
      "text/plain": [
       "Index(['Gender', 'Married', 'Education', 'Self_Employed', 'ApplicantIncome',\n",
       "       'CoapplicantIncome', 'LoanAmount', 'Loan_Amount_Term', 'Credit_History',\n",
       "       'Property_Area', 'Dependents_0', 'Dependents_1', 'Dependents_2',\n",
       "       'Dependents_3+'],\n",
       "      dtype='object')"
      ]
     },
     "execution_count": 101,
     "metadata": {},
     "output_type": "execute_result"
    }
   ],
   "source": [
    "column_names = x.columns\n",
    "column_names"
   ]
  },
  {
   "cell_type": "code",
   "execution_count": 102,
   "id": "47a90f5c",
   "metadata": {},
   "outputs": [],
   "source": [
    "json_data = {\"Gender\":Gender,\n",
    "        \"Married\":Married,\n",
    "        \"Education\":Education,\n",
    "        \"Self_Employed\":Self_Employed,\n",
    "         \"Property_Area\":Property_Area,\n",
    "        \"Loan_Status\" :Loan_Status,\n",
    "       \"columns\":list(column_names)}"
   ]
  },
  {
   "cell_type": "code",
   "execution_count": 103,
   "id": "b81b7988",
   "metadata": {},
   "outputs": [],
   "source": [
    "import json"
   ]
  },
  {
   "cell_type": "code",
   "execution_count": 104,
   "id": "95b92e67",
   "metadata": {},
   "outputs": [],
   "source": [
    "with open (\"json_file.json\",\"w\")as f:\n",
    "    json.dump(json_data,f)"
   ]
  },
  {
   "cell_type": "markdown",
   "id": "b5729426",
   "metadata": {},
   "source": [
    "### single user input testing"
   ]
  },
  {
   "cell_type": "code",
   "execution_count": 105,
   "id": "d81ac70b",
   "metadata": {},
   "outputs": [],
   "source": [
    "Gender = \"Male\"\n",
    "Married = \"Yes\"\n",
    "Education = \"Graduate\"\n",
    "Self_Employed = \"No\"\n",
    "ApplicantIncome = 4583\n",
    "CoapplicantIncome = 1508.0\n",
    "LoanAmount = 128.0\n",
    "Loan_Amount_Term = 360.0\n",
    "Credit_History = 1.0\n",
    "Property_Area = \"Rural\"\n",
    "Dependents = 1\n",
    "\n"
   ]
  },
  {
   "cell_type": "code",
   "execution_count": 106,
   "id": "bce4cdfd",
   "metadata": {},
   "outputs": [
    {
     "data": {
      "text/plain": [
       "'Dependents_1'"
      ]
     },
     "execution_count": 106,
     "metadata": {},
     "output_type": "execute_result"
    }
   ],
   "source": [
    "Dependents = \"Dependents_\" + str(Dependents)\n",
    "Dependents"
   ]
  },
  {
   "cell_type": "code",
   "execution_count": 107,
   "id": "02234971",
   "metadata": {},
   "outputs": [],
   "source": [
    "# Dependents_index = np.where(column_names == Dependents)[0][0]\n",
    "# Dependents_index"
   ]
  },
  {
   "cell_type": "code",
   "execution_count": 108,
   "id": "d91fdbfd",
   "metadata": {},
   "outputs": [
    {
     "data": {
      "text/plain": [
       "11"
      ]
     },
     "execution_count": 108,
     "metadata": {},
     "output_type": "execute_result"
    }
   ],
   "source": [
    "Dependents_index = list(column_names).index(Dependents)\n",
    "Dependents_index"
   ]
  },
  {
   "cell_type": "code",
   "execution_count": 110,
   "id": "7772b5ce",
   "metadata": {},
   "outputs": [
    {
     "data": {
      "text/plain": [
       "array([0.000e+00, 0.000e+00, 0.000e+00, 1.000e+00, 4.583e+03, 1.508e+03,\n",
       "       1.280e+02, 3.600e+02, 1.000e+00, 2.000e+00, 0.000e+00, 1.000e+00,\n",
       "       0.000e+00, 0.000e+00])"
      ]
     },
     "execution_count": 110,
     "metadata": {},
     "output_type": "execute_result"
    }
   ],
   "source": [
    "array = np.zeros(len(column_names))\n",
    "\n",
    "array[0] = json_data[\"Gender\"][Gender]\n",
    "array[1] = json_data[\"Married\"][Married]\n",
    "array[2] = json_data[\"Education\"][Education]\n",
    "array[3] = json_data[\"Self_Employed\"][Self_Employed]\n",
    "\n",
    "\n",
    "array[4] = ApplicantIncome\n",
    "array[5] = CoapplicantIncome\n",
    "array[6] = LoanAmount\n",
    "array[7] = Loan_Amount_Term \n",
    "array[8] = Credit_History\n",
    "array[9] = json_data[\"Property_Area\"][Property_Area]\n",
    "array[Dependents_index] = 1\n",
    "\n",
    "array\n",
    "\n",
    "    "
   ]
  },
  {
   "cell_type": "code",
   "execution_count": 114,
   "id": "790e45bb",
   "metadata": {},
   "outputs": [],
   "source": [
    "with open (\"scaled_model.pkl\",\"wb\")as f:\n",
    "    pickle.dump(normal_scalar,f)"
   ]
  },
  {
   "cell_type": "code",
   "execution_count": 112,
   "id": "8a59596c",
   "metadata": {},
   "outputs": [],
   "source": [
    "scaled_array = normal_scalar.transform([array])"
   ]
  },
  {
   "cell_type": "code",
   "execution_count": 113,
   "id": "cceb9012",
   "metadata": {},
   "outputs": [
    {
     "name": "stdout",
     "output_type": "stream",
     "text": [
      "0\n",
      "loan is not approved\n"
     ]
    }
   ],
   "source": [
    "\n",
    "loan_status = rf_clf.predict([array])[0]\n",
    "print(loan_status)\n",
    "if loan_status == 1:\n",
    "    print(\"loan_status\",loan_status)\n",
    "    print(\"loan is approved\")\n",
    "else:\n",
    "    print(\"loan is not approved\")"
   ]
  },
  {
   "cell_type": "code",
   "execution_count": null,
   "id": "52e6c1c3",
   "metadata": {},
   "outputs": [],
   "source": []
  }
 ],
 "metadata": {
  "kernelspec": {
   "display_name": "Python 3 (ipykernel)",
   "language": "python",
   "name": "python3"
  },
  "language_info": {
   "codemirror_mode": {
    "name": "ipython",
    "version": 3
   },
   "file_extension": ".py",
   "mimetype": "text/x-python",
   "name": "python",
   "nbconvert_exporter": "python",
   "pygments_lexer": "ipython3",
   "version": "3.9.13"
  }
 },
 "nbformat": 4,
 "nbformat_minor": 5
}
